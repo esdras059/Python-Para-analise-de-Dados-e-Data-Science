{
 "cells": [
  {
   "cell_type": "code",
   "execution_count": 1,
   "id": "2b923ee5",
   "metadata": {
    "scrolled": false
   },
   "outputs": [
    {
     "name": "stdout",
     "output_type": "stream",
     "text": [
      "Ola Jupyer\n"
     ]
    }
   ],
   "source": [
    "print(\"Ola Jupyter\")"
   ]
  },
  {
   "cell_type": "code",
   "execution_count": 13,
   "id": "e67a215b",
   "metadata": {},
   "outputs": [
    {
     "name": "stdout",
     "output_type": "stream",
     "text": [
      "[4, 8, 12, 16, 20, 24, 28, 32, 36, 40, 44, 48, 52, 56, 60, 64, 68, 72, 76, 80, 84, 88, 92, 96, 100]\n"
     ]
    },
    {
     "data": {
      "text/plain": [
       "list"
      ]
     },
     "execution_count": 13,
     "metadata": {},
     "output_type": "execute_result"
    }
   ],
   "source": [
    "# Lista de números de 1 a 100\n",
    "numeros = list(range(1, 101))\n",
    "\n",
    "# List comprehension para selecionar os números pares divisíveis por 4\n",
    "num_div_4 = [num for num in numeros if num % 2 == 0 and num % 4 == 0]\n",
    "\n",
    "# Imprimindo os números selecionados\n",
    "print(num_div_4)\n",
    "type(num_div_4)"
   ]
  },
  {
   "cell_type": "markdown",
   "id": "f5c2236a",
   "metadata": {},
   "source": [
    "uma lista com os numeros entre 1 a 100 e então imprima os números pares, mas somente se o número for divisível por 4."
   ]
  }
 ],
 "metadata": {
  "kernelspec": {
   "display_name": "Python 3 (ipykernel)",
   "language": "python",
   "name": "python3"
  },
  "language_info": {
   "codemirror_mode": {
    "name": "ipython",
    "version": 3
   },
   "file_extension": ".py",
   "mimetype": "text/x-python",
   "name": "python",
   "nbconvert_exporter": "python",
   "pygments_lexer": "ipython3",
   "version": "3.9.13"
  }
 },
 "nbformat": 4,
 "nbformat_minor": 5
}
