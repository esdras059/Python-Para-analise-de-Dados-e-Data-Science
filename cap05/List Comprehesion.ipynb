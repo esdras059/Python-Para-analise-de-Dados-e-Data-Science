{
 "cells": [
  {
   "cell_type": "markdown",
   "id": "a04938ee",
   "metadata": {},
   "source": [
    "## List Comprehension\n",
    "[expressão for item in iterable if condição == True]"
   ]
  },
  {
   "cell_type": "code",
   "execution_count": 5,
   "id": "4dc5953b",
   "metadata": {},
   "outputs": [
    {
     "data": {
      "text/plain": [
       "[0, 1, 2, 3, 4, 5, 6, 7, 8, 9]"
      ]
     },
     "execution_count": 5,
     "metadata": {},
     "output_type": "execute_result"
    }
   ],
   "source": [
    "#List comprehension que imprime os números até 10\n",
    "[x for x in range(10)]"
   ]
  },
  {
   "cell_type": "code",
   "execution_count": 6,
   "id": "83dbbd26",
   "metadata": {},
   "outputs": [],
   "source": [
    "#List comprehension que imprime os números até 10 e grava em uma lista Python\n",
    "lista_numeros = [x for x in range(10)]"
   ]
  },
  {
   "cell_type": "code",
   "execution_count": 7,
   "id": "aa10d9e4",
   "metadata": {},
   "outputs": [
    {
     "data": {
      "text/plain": [
       "[0, 1, 2, 3, 4, 5, 6, 7, 8, 9]"
      ]
     },
     "execution_count": 7,
     "metadata": {},
     "output_type": "execute_result"
    }
   ],
   "source": [
    "lista_numeros"
   ]
  },
  {
   "cell_type": "code",
   "execution_count": 8,
   "id": "a02fa3bd",
   "metadata": {},
   "outputs": [],
   "source": [
    "#List comprehension que imprime os números menores que 5 em um intervalo de 1 a 10\n",
    "lista_numeros = [x for x in range(10) if x < 5]"
   ]
  },
  {
   "cell_type": "code",
   "execution_count": 9,
   "id": "e29c6a90",
   "metadata": {},
   "outputs": [
    {
     "data": {
      "text/plain": [
       "[0, 1, 2, 3, 4]"
      ]
     },
     "execution_count": 9,
     "metadata": {},
     "output_type": "execute_result"
    }
   ],
   "source": [
    "lista_numeros"
   ]
  },
  {
   "cell_type": "code",
   "execution_count": 15,
   "id": "d87b9df7",
   "metadata": {},
   "outputs": [],
   "source": [
    "# Lista de frutas\n",
    "lista_frutas = [\"banana\", \"abacate\", \"melancia\", \"cereja\", \"manga\"]\n",
    "\n",
    "#Nova lista\n",
    "nova_lista = []"
   ]
  },
  {
   "cell_type": "code",
   "execution_count": 16,
   "id": "2a1d0aed",
   "metadata": {},
   "outputs": [
    {
     "name": "stdout",
     "output_type": "stream",
     "text": [
      "['melancia', 'manga']\n"
     ]
    }
   ],
   "source": [
    "# Loop tradicional para buscar as palavras com letra \"m\"\n",
    "for x in lista_frutas:\n",
    "    if \"m\" in x:\n",
    "        nova_lista.append(x)\n",
    "print(nova_lista)"
   ]
  },
  {
   "cell_type": "code",
   "execution_count": 17,
   "id": "82c81a63",
   "metadata": {},
   "outputs": [],
   "source": [
    "# Mesmo resultado anterior mas com list comprehension\n",
    "nova_lista = [x for x in lista_frutas if \"m\" in x]"
   ]
  },
  {
   "cell_type": "code",
   "execution_count": 18,
   "id": "c717bc25",
   "metadata": {},
   "outputs": [
    {
     "data": {
      "text/plain": [
       "['melancia', 'manga']"
      ]
     },
     "execution_count": 18,
     "metadata": {},
     "output_type": "execute_result"
    }
   ],
   "source": [
    "nova_lista"
   ]
  },
  {
   "cell_type": "code",
   "execution_count": 27,
   "id": "c0a469a7",
   "metadata": {},
   "outputs": [
    {
     "name": "stdout",
     "output_type": "stream",
     "text": [
      "{'Bob': 68, 'Michel': 84, 'Zico': 57, 'Ana': 93}\n"
     ]
    }
   ],
   "source": [
    "# Dict comprehension\n",
    "\n",
    "#Dicionário de alunos e notas\n",
    "dict_alunos = {\"Bob\": 68, \"Michel\": 84, \"Zico\": 57, \"Ana\": 93}\n",
    "\n",
    "#Criamos um novo dicionário imprimindo os pares de chave: valor\n",
    "dict_alunos_status = {k:v for (k,v) in dict_alunos.items()}\n",
    "print(dict_alunos_status)"
   ]
  },
  {
   "cell_type": "code",
   "execution_count": 31,
   "id": "9ad13720",
   "metadata": {},
   "outputs": [],
   "source": [
    "dict_alunos_status = {k:(\"Aprovado\" if v > 70 else \"Reprovado\") for (k,v) in dict_alunos.items()}"
   ]
  },
  {
   "cell_type": "code",
   "execution_count": 32,
   "id": "5223b919",
   "metadata": {},
   "outputs": [
    {
     "data": {
      "text/plain": [
       "{'Bob': 'Reprovado',\n",
       " 'Michel': 'Aprovado',\n",
       " 'Zico': 'Reprovado',\n",
       " 'Ana': 'Aprovado'}"
      ]
     },
     "execution_count": 32,
     "metadata": {},
     "output_type": "execute_result"
    }
   ],
   "source": [
    "dict_alunos_status"
   ]
  },
  {
   "cell_type": "code",
   "execution_count": null,
   "id": "f5a3eb31",
   "metadata": {},
   "outputs": [],
   "source": []
  }
 ],
 "metadata": {
  "kernelspec": {
   "display_name": "Python 3 (ipykernel)",
   "language": "python",
   "name": "python3"
  },
  "language_info": {
   "codemirror_mode": {
    "name": "ipython",
    "version": 3
   },
   "file_extension": ".py",
   "mimetype": "text/x-python",
   "name": "python",
   "nbconvert_exporter": "python",
   "pygments_lexer": "ipython3",
   "version": "3.9.13"
  }
 },
 "nbformat": 4,
 "nbformat_minor": 5
}
