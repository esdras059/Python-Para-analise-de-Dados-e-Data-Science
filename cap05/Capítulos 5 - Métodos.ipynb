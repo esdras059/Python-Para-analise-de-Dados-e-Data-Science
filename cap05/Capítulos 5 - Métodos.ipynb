{
 "cells": [
  {
   "cell_type": "markdown",
   "id": "1213bde1",
   "metadata": {},
   "source": [
    "# Data Science Academy\n",
    "## Fundamentos de Linguagem Python Para Análise de Dados e Data Science\n",
    "## Capítulo 5 - Métodos"
   ]
  },
  {
   "cell_type": "code",
   "execution_count": 1,
   "id": "b8580a5c",
   "metadata": {},
   "outputs": [
    {
     "name": "stdout",
     "output_type": "stream",
     "text": [
      "Versão da Linguagem Python Usada Neste Jupyter Notebook:  3.9.13\n"
     ]
    }
   ],
   "source": [
    "#Versão da Linguagem Python\n",
    "from platform import python_version\n",
    "print('Versão da Linguagem Python Usada Neste Jupyter Notebook: ', python_version())"
   ]
  },
  {
   "cell_type": "markdown",
   "id": "04972fe8",
   "metadata": {},
   "source": [
    "### Métodos\n",
    "\n",
    "Tudo em Python é objeto. E cada objeto tem métodos e atributos.\n",
    "\n",
    "°Atributos são propriedades, características do objeto.\n",
    "°Métodos são funções com ações que podem ser executadas nos objetos."
   ]
  },
  {
   "cell_type": "code",
   "execution_count": 2,
   "id": "dfb9b5a4",
   "metadata": {},
   "outputs": [],
   "source": [
    "# Criando uma lista\n",
    "lista = [100, -2, 12, 65, 0]"
   ]
  },
  {
   "cell_type": "code",
   "execution_count": 3,
   "id": "efa6071b",
   "metadata": {},
   "outputs": [
    {
     "data": {
      "text/plain": [
       "list"
      ]
     },
     "execution_count": 3,
     "metadata": {},
     "output_type": "execute_result"
    }
   ],
   "source": [
    "# Verificando métodos e atributos\n",
    "type(lista)"
   ]
  },
  {
   "cell_type": "code",
   "execution_count": 7,
   "id": "b3b3dae9",
   "metadata": {},
   "outputs": [
    {
     "data": {
      "text/plain": [
       "1"
      ]
     },
     "execution_count": 7,
     "metadata": {},
     "output_type": "execute_result"
    }
   ],
   "source": [
    "lista.count(100)"
   ]
  },
  {
   "cell_type": "code",
   "execution_count": 8,
   "id": "d5f82828",
   "metadata": {},
   "outputs": [],
   "source": [
    "# Usando um método do objeto lista\n",
    "lista.append(100)"
   ]
  },
  {
   "cell_type": "code",
   "execution_count": 9,
   "id": "8640cd7e",
   "metadata": {},
   "outputs": [
    {
     "name": "stdout",
     "output_type": "stream",
     "text": [
      "[100, -2, 12, 65, 0, 100]\n"
     ]
    }
   ],
   "source": [
    "print(lista)"
   ]
  },
  {
   "cell_type": "code",
   "execution_count": 11,
   "id": "8d01d515",
   "metadata": {},
   "outputs": [
    {
     "data": {
      "text/plain": [
       "2"
      ]
     },
     "execution_count": 11,
     "metadata": {},
     "output_type": "execute_result"
    }
   ],
   "source": [
    "#A função help() explica como utilizar cada método de um objeto\n",
    "lista.count(100)"
   ]
  },
  {
   "cell_type": "code",
   "execution_count": 12,
   "id": "08b8ea56",
   "metadata": {},
   "outputs": [
    {
     "name": "stdout",
     "output_type": "stream",
     "text": [
      "Help on built-in function append:\n",
      "\n",
      "append(object, /) method of builtins.list instance\n",
      "    Append object to the end of the list.\n",
      "\n"
     ]
    }
   ],
   "source": [
    "help(lista.append)"
   ]
  },
  {
   "cell_type": "code",
   "execution_count": 8,
   "id": "f5967d78",
   "metadata": {},
   "outputs": [
    {
     "data": {
      "text/plain": [
       "['__add__',\n",
       " '__class__',\n",
       " '__class_getitem__',\n",
       " '__contains__',\n",
       " '__delattr__',\n",
       " '__delitem__',\n",
       " '__dir__',\n",
       " '__doc__',\n",
       " '__eq__',\n",
       " '__format__',\n",
       " '__ge__',\n",
       " '__getattribute__',\n",
       " '__getitem__',\n",
       " '__gt__',\n",
       " '__hash__',\n",
       " '__iadd__',\n",
       " '__imul__',\n",
       " '__init__',\n",
       " '__init_subclass__',\n",
       " '__iter__',\n",
       " '__le__',\n",
       " '__len__',\n",
       " '__lt__',\n",
       " '__mul__',\n",
       " '__ne__',\n",
       " '__new__',\n",
       " '__reduce__',\n",
       " '__reduce_ex__',\n",
       " '__repr__',\n",
       " '__reversed__',\n",
       " '__rmul__',\n",
       " '__setattr__',\n",
       " '__setitem__',\n",
       " '__sizeof__',\n",
       " '__str__',\n",
       " '__subclasshook__',\n",
       " 'append',\n",
       " 'clear',\n",
       " 'copy',\n",
       " 'count',\n",
       " 'extend',\n",
       " 'index',\n",
       " 'insert',\n",
       " 'pop',\n",
       " 'remove',\n",
       " 'reverse',\n",
       " 'sort']"
      ]
     },
     "execution_count": 8,
     "metadata": {},
     "output_type": "execute_result"
    }
   ],
   "source": [
    "# A função dir() mostra todos os métodos e atributos de um objeto\n",
    "dir(lista)"
   ]
  },
  {
   "cell_type": "code",
   "execution_count": 13,
   "id": "fae3bf87",
   "metadata": {},
   "outputs": [],
   "source": [
    "frase = 'Isso é uma String'"
   ]
  },
  {
   "cell_type": "code",
   "execution_count": 14,
   "id": "b9650fcb",
   "metadata": {},
   "outputs": [
    {
     "data": {
      "text/plain": [
       "'Isso é uma String'"
      ]
     },
     "execution_count": 14,
     "metadata": {},
     "output_type": "execute_result"
    }
   ],
   "source": [
    "frase"
   ]
  },
  {
   "cell_type": "code",
   "execution_count": 11,
   "id": "29a09cc5",
   "metadata": {},
   "outputs": [
    {
     "data": {
      "text/plain": [
       "str"
      ]
     },
     "execution_count": 11,
     "metadata": {},
     "output_type": "execute_result"
    }
   ],
   "source": [
    "type(frase)"
   ]
  },
  {
   "cell_type": "code",
   "execution_count": 12,
   "id": "bc5bb0de",
   "metadata": {},
   "outputs": [
    {
     "name": "stdout",
     "output_type": "stream",
     "text": [
      "['Isso', 'é', 'uma', 'String']\n"
     ]
    }
   ],
   "source": [
    "# O método de um objeto pode ser chamado dentro de uma função, como print()\n",
    "print (frase.split())"
   ]
  },
  {
   "cell_type": "markdown",
   "id": "bb6cf50a",
   "metadata": {},
   "source": [
    "# Fim"
   ]
  }
 ],
 "metadata": {
  "kernelspec": {
   "display_name": "Python 3 (ipykernel)",
   "language": "python",
   "name": "python3"
  },
  "language_info": {
   "codemirror_mode": {
    "name": "ipython",
    "version": 3
   },
   "file_extension": ".py",
   "mimetype": "text/x-python",
   "name": "python",
   "nbconvert_exporter": "python",
   "pygments_lexer": "ipython3",
   "version": "3.9.13"
  }
 },
 "nbformat": 4,
 "nbformat_minor": 5
}
