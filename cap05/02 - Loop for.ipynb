{
 "cells": [
  {
   "cell_type": "markdown",
   "id": "7c5a2f65",
   "metadata": {},
   "source": [
    "# Data Science Academy\n",
    "## Fundamentos de Linguagem Python Para Análise de Dados e Data Science\n",
    "## Capítulo 5 - Loop for"
   ]
  },
  {
   "cell_type": "code",
   "execution_count": null,
   "id": "7b867a3a",
   "metadata": {},
   "outputs": [],
   "source": [
    "# Versão da Linguagem Python\n",
    "from platform import python_version\n",
    "print('Versão da Linguagem Python Usada Neste Jupyter Notebook:', python_version())"
   ]
  },
  {
   "cell_type": "markdown",
   "id": "0946fed9",
   "metadata": {},
   "source": [
    "## Loop for"
   ]
  },
  {
   "cell_type": "code",
   "execution_count": null,
   "id": "db73c930",
   "metadata": {},
   "outputs": [],
   "source": [
    "#Criando uma tupla e imprimindo cada um dos valores\n",
    "tupla = (2,3,4)\n",
    "for i in tupla:\n",
    "    print(i)"
   ]
  },
  {
   "cell_type": "code",
   "execution_count": null,
   "id": "14a2e102",
   "metadata": {},
   "outputs": [],
   "source": [
    "# Criando uma lista e imprimindo cada um dos valores\n",
    "ListaString = [\"Data\", \"Science\", \"Academy\"]\n",
    "for i in ListaString:\n",
    "    print(i)"
   ]
  },
  {
   "cell_type": "code",
   "execution_count": 39,
   "id": "11c42ab7",
   "metadata": {},
   "outputs": [
    {
     "name": "stdout",
     "output_type": "stream",
     "text": [
      "0\n",
      "1\n",
      "2\n",
      "3\n",
      "4\n"
     ]
    }
   ],
   "source": [
    "#Imprimindo os valores no intervalo entre 0 e 5 (Exclusive)\n",
    "for contador in range(0,5):\n",
    "    print(contador)"
   ]
  },
  {
   "cell_type": "code",
   "execution_count": null,
   "id": "a39abd79",
   "metadata": {},
   "outputs": [],
   "source": [
    "# Imprindo os números pares de uma lista\n",
    "lista = [1,2,3,4,5,6,7,8,9,10]\n",
    "for num in lista:\n",
    "     if num % 2 == 0:\n",
    "            print(num)"
   ]
  },
  {
   "cell_type": "code",
   "execution_count": null,
   "id": "8d553f8d",
   "metadata": {},
   "outputs": [],
   "source": [
    "# Listando os números no intervalo entre 0 e 101, com incremento em 2 em 2\n",
    "for i in range(0,101,2):\n",
    "    print(i)"
   ]
  },
  {
   "cell_type": "code",
   "execution_count": null,
   "id": "7a0d42af",
   "metadata": {},
   "outputs": [],
   "source": [
    "# Strings também são sequências\n",
    "for caracter in \"Python é uma linguagem de programação divertida!\":\n",
    "    print(caracter)"
   ]
  },
  {
   "cell_type": "markdown",
   "id": "c1e338e7",
   "metadata": {},
   "source": [
    "## Loop for Aninhado"
   ]
  },
  {
   "cell_type": "code",
   "execution_count": null,
   "id": "60cd04a0",
   "metadata": {},
   "outputs": [],
   "source": [
    "# Loops aninhados\n",
    "\n",
    "lista1 = [0,1,2,3,4,5]\n",
    "lista2 = [1,2,3]\n",
    "\n",
    "# Loop Externo\n",
    "for elemento_lista1 in lista1:\n",
    "    #Loop Interno\n",
    "    for elemento_lista2 in lista2:\n",
    "        print(elemento_lista1 * elemento_lista2)\n",
    "    print(\"---\")"
   ]
  },
  {
   "cell_type": "code",
   "execution_count": null,
   "id": "bfc6a100",
   "metadata": {},
   "outputs": [],
   "source": [
    "# O número 47 aparece nas duas listas?\n",
    "\n",
    "lista1 = [10,16,24,39,47]\n",
    "lista2 = [32,89,47,76,12]\n",
    "\n",
    "#Loop External\n",
    "for elemento_lista1 in lista1:\n",
    "    #Loop Interno\n",
    "    for elemento_lista2 in lista2:\n",
    "        print(elemento_lista1, \" \", elemento_lista2)\n",
    "        print(\"-------\")\n",
    "        #Condicional\n",
    "        if elemento_lista1 == 47 and elemento_lista2 == 47:\n",
    "            print(\"\\nO número 47 foi encontrado nas duas linhas\\n\")"
   ]
  },
  {
   "cell_type": "code",
   "execution_count": 16,
   "id": "6ddc50a3",
   "metadata": {},
   "outputs": [
    {
     "name": "stdout",
     "output_type": "stream",
     "text": [
      "10\n",
      "16\n",
      "24\n",
      "32\n",
      "76\n",
      "12\n",
      "A soma entre os números pares das duas listas é: 170\n"
     ]
    }
   ],
   "source": [
    "# Some os números pares da primeira lista com os números pares da segunda lista utilizando loop interno\n",
    "\n",
    "lista1 = [10,16,24,39,47]\n",
    "lista2 = [32,89,47,76,12]\n",
    "soma = 0\n",
    "#Loop Externo\n",
    "for lista in [lista1,lista2]:\n",
    "    #loop interno\n",
    "    for num in lista:\n",
    "        #Condicional\n",
    "        if num %2==0:\n",
    "            print(num)\n",
    "            soma +=num\n",
    "print(\"A soma entre os números pares das duas listas é: {}\".format(soma))"
   ]
  },
  {
   "cell_type": "code",
   "execution_count": 3,
   "id": "5c6c857d",
   "metadata": {},
   "outputs": [
    {
     "data": {
      "text/plain": [
       "[10, 16, 24, 39, 47, 32, 89, 47, 76, 12]"
      ]
     },
     "execution_count": 3,
     "metadata": {},
     "output_type": "execute_result"
    }
   ],
   "source": [
    "#Listas podem ser concatenadas em Python.\n",
    "lista1 + lista2"
   ]
  },
  {
   "cell_type": "code",
   "execution_count": 20,
   "id": "27b5b3f6",
   "metadata": {},
   "outputs": [
    {
     "name": "stdout",
     "output_type": "stream",
     "text": [
      "A soma entre os pares da lista1 e lista 2 é: 170\n"
     ]
    }
   ],
   "source": [
    "# Some os números pares da primeira lista com os números pares da segunda lista utilizando apenas listas externas\n",
    "\n",
    "lista1 = [10,16,24,39,47]\n",
    "lista2 = [32,89,47,76,12]\n",
    "soma = 0\n",
    "for num in lista1 + lista2:\n",
    "    if num % 2 ==0:\n",
    "        soma += num\n",
    "print(\"A soma entre os pares da lista1 e lista 2 é: {0}\".format(soma))"
   ]
  },
  {
   "cell_type": "code",
   "execution_count": 28,
   "id": "aaecfcb3",
   "metadata": {},
   "outputs": [
    {
     "name": "stdout",
     "output_type": "stream",
     "text": [
      "[43, 56, 37]\n",
      "[59, 75, 94]\n",
      "[101, 432, 87]\n",
      "O maior número é 432\n"
     ]
    }
   ],
   "source": [
    "# Loop em Listas de listas (matrizes) para encontrar o maior número\n",
    "matriz = [[43,56,37],[59,75,94],[101,432,87]]\n",
    "maior_num = 0\n",
    "#loop externo para selecionar cada lista dentro da matriz\n",
    "for linha in matriz:\n",
    "    print(linha)\n",
    "    #loop interno para selecionar cada numero dentro das lista internas \n",
    "    for num in linha:\n",
    "        if num > maior_num:\n",
    "            maior_num = num\n",
    "print(\"O maior número é {}\".format(maior_num))"
   ]
  },
  {
   "cell_type": "code",
   "execution_count": 31,
   "id": "ea4c03ab",
   "metadata": {},
   "outputs": [
    {
     "name": "stdout",
     "output_type": "stream",
     "text": [
      "k1\n",
      "k2\n",
      "k3\n"
     ]
    }
   ],
   "source": [
    "# Listando as chaves de um dicionário\n",
    "dict = {\"k1\":\"Python\", \"k2\":\"R\", \"k3\":\"SQL\"}\n",
    "for item in dict:\n",
    "    print(item)"
   ]
  },
  {
   "cell_type": "code",
   "execution_count": 38,
   "id": "317b6cbd",
   "metadata": {},
   "outputs": [
    {
     "name": "stdout",
     "output_type": "stream",
     "text": [
      "k1 Python\n",
      "k2 R\n",
      "k3 SQL\n"
     ]
    }
   ],
   "source": [
    "# Imprimindo chave e valor do dicionário. Usando o método items() para retornar os itens de um dicionário\n",
    "\n",
    "for k,v in dict.items():\n",
    "    print(k,v)"
   ]
  },
  {
   "cell_type": "markdown",
   "id": "3b09767b",
   "metadata": {},
   "source": [
    "## Fim"
   ]
  },
  {
   "cell_type": "code",
   "execution_count": null,
   "id": "a1048a79",
   "metadata": {},
   "outputs": [],
   "source": []
  }
 ],
 "metadata": {
  "kernelspec": {
   "display_name": "Python 3 (ipykernel)",
   "language": "python",
   "name": "python3"
  },
  "language_info": {
   "codemirror_mode": {
    "name": "ipython",
    "version": 3
   },
   "file_extension": ".py",
   "mimetype": "text/x-python",
   "name": "python",
   "nbconvert_exporter": "python",
   "pygments_lexer": "ipython3",
   "version": "3.9.13"
  }
 },
 "nbformat": 4,
 "nbformat_minor": 5
}
