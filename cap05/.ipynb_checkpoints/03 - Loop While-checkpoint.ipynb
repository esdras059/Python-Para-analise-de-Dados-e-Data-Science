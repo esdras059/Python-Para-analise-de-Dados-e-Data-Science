{
 "cells": [
  {
   "cell_type": "markdown",
   "id": "81537ce5",
   "metadata": {},
   "source": [
    "# Data Science Academy\n",
    "\n",
    "## Fundamentos de Linguagem Python Para Análise de Dados e Data Science\n",
    "\n",
    "# Capítulo 5 - Loop While"
   ]
  },
  {
   "cell_type": "code",
   "execution_count": null,
   "id": "3c444829",
   "metadata": {},
   "outputs": [],
   "source": [
    "# Versão da Linguagem Python\n",
    "from platform import python_version\n",
    "print('Versão da Linguagem Python Usada Neste Jupyter Notebook:', python_version())"
   ]
  },
  {
   "cell_type": "markdown",
   "id": "00bca518",
   "metadata": {},
   "source": [
    "## Loop While"
   ]
  },
  {
   "cell_type": "code",
   "execution_count": null,
   "id": "3020b2bc",
   "metadata": {},
   "outputs": [],
   "source": [
    "# Usando o loop while para imprimir os valores de 0 a 9\n",
    "# A condição tem que deixar de ser verdadeira dentro do loop, senão pode travar o navegador ou mesmo o computador\n",
    "valor = 0\n",
    "while valor < 10:\n",
    "    print(valor)\n",
    "    valor +=1"
   ]
  },
  {
   "cell_type": "code",
   "execution_count": 1,
   "id": "998380dd",
   "metadata": {},
   "outputs": [],
   "source": [
    "# Entra no loop somente se a condição for verdadeira\n",
    "valor = 11\n",
    "while valor < 10:\n",
    "    print(valor)\n",
    "    valor+=1"
   ]
  },
  {
   "cell_type": "code",
   "execution_count": null,
   "id": "65cfc618",
   "metadata": {},
   "outputs": [],
   "source": [
    "# Também é possível usar a claúsula else para encerrar o loop While\n",
    "x = 0\n",
    "while x < 10:\n",
    "    print(\"O valor do x na interação é \",x)\n",
    "    print(\"x ainda é menor do que 10, somando 1 a x\")\n",
    "    x+=1\n",
    "else:\n",
    "    print(\"Loop concluído\")\n",
    "print(x)"
   ]
  },
  {
   "cell_type": "code",
   "execution_count": null,
   "id": "b658f317",
   "metadata": {},
   "outputs": [],
   "source": [
    "a = 1\n",
    "print(a)"
   ]
  },
  {
   "cell_type": "code",
   "execution_count": null,
   "id": "9c0bb05a",
   "metadata": {},
   "outputs": [],
   "source": []
  }
 ],
 "metadata": {
  "kernelspec": {
   "display_name": "Python 3 (ipykernel)",
   "language": "python",
   "name": "python3"
  },
  "language_info": {
   "codemirror_mode": {
    "name": "ipython",
    "version": 3
   },
   "file_extension": ".py",
   "mimetype": "text/x-python",
   "name": "python",
   "nbconvert_exporter": "python",
   "pygments_lexer": "ipython3",
   "version": "3.9.13"
  }
 },
 "nbformat": 4,
 "nbformat_minor": 5
}
