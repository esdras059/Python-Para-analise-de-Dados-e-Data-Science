{
 "cells": [
  {
   "cell_type": "markdown",
   "id": "2a5c0b63",
   "metadata": {},
   "source": [
    "# Data Science Academy\n",
    "\n",
    "## Fundamentos de Linguagem Python Para Análise de Dados e Data Science\n",
    "\n",
    "## Capítulo 6 - Funções"
   ]
  },
  {
   "cell_type": "code",
   "execution_count": 1,
   "id": "78bbc058",
   "metadata": {},
   "outputs": [
    {
     "name": "stdout",
     "output_type": "stream",
     "text": [
      "Versão da Linguagem Python Usada Neste Jupyter Notebook: 3.9.13\n"
     ]
    }
   ],
   "source": [
    "# Versão da Linguagem Python\n",
    "from platform import python_version\n",
    "print('Versão da Linguagem Python Usada Neste Jupyter Notebook:', python_version())"
   ]
  },
  {
   "cell_type": "markdown",
   "id": "8f921ea8",
   "metadata": {},
   "source": [
    "# Funções"
   ]
  },
  {
   "cell_type": "code",
   "execution_count": 2,
   "id": "d204df1b",
   "metadata": {},
   "outputs": [
    {
     "name": "stdout",
     "output_type": "stream",
     "text": [
      "Hello world\n"
     ]
    }
   ],
   "source": [
    "print(\"Hello world\")"
   ]
  },
  {
   "cell_type": "code",
   "execution_count": 5,
   "id": "e6024cde",
   "metadata": {},
   "outputs": [],
   "source": [
    "# Definindo uma função\n",
    "def primeirafunc():\n",
    "    print(\"Hello World\")"
   ]
  },
  {
   "cell_type": "code",
   "execution_count": 4,
   "id": "d19f0a70",
   "metadata": {},
   "outputs": [
    {
     "name": "stdout",
     "output_type": "stream",
     "text": [
      "Hello World\n"
     ]
    }
   ],
   "source": [
    "primeirafunc()"
   ]
  },
  {
   "cell_type": "code",
   "execution_count": 10,
   "id": "77419892",
   "metadata": {},
   "outputs": [],
   "source": [
    "def leitornome():\n",
    "    nome = \"Bob\"\n",
    "    print(\"Hello %s\" %(nome))"
   ]
  },
  {
   "cell_type": "code",
   "execution_count": 11,
   "id": "cd4215e6",
   "metadata": {},
   "outputs": [
    {
     "name": "stdout",
     "output_type": "stream",
     "text": [
      "Hello Bob\n"
     ]
    }
   ],
   "source": [
    "leitornome()"
   ]
  },
  {
   "cell_type": "code",
   "execution_count": 12,
   "id": "041cd22b",
   "metadata": {},
   "outputs": [],
   "source": [
    "# Definindo uma função com parâmetro\n",
    "def segundafunc(nome):\n",
    "    print(\"Hello %s \" %(nome))"
   ]
  },
  {
   "cell_type": "code",
   "execution_count": 19,
   "id": "cdf2ac23",
   "metadata": {},
   "outputs": [
    {
     "name": "stdout",
     "output_type": "stream",
     "text": [
      "Hello Paulo \n"
     ]
    }
   ],
   "source": [
    "segundafunc(\"Paulo\")"
   ]
  },
  {
   "cell_type": "code",
   "execution_count": 25,
   "id": "0ab12bb0",
   "metadata": {},
   "outputs": [],
   "source": [
    "# Função para imprimir números\n",
    "def imprimirnumeros():\n",
    "    for i in range(0,5):\n",
    "        print(\"Numero \", i)"
   ]
  },
  {
   "cell_type": "code",
   "execution_count": 26,
   "id": "00ba5cfa",
   "metadata": {},
   "outputs": [
    {
     "name": "stdout",
     "output_type": "stream",
     "text": [
      "Numero  0\n",
      "Numero  1\n",
      "Numero  2\n",
      "Numero  3\n",
      "Numero  4\n"
     ]
    }
   ],
   "source": [
    "imprimirnumeros()"
   ]
  },
  {
   "cell_type": "code",
   "execution_count": 32,
   "id": "b8f9fd56",
   "metadata": {},
   "outputs": [],
   "source": [
    "# Função para somar números\n",
    "def somar(num1, num2):\n",
    "    print(\"Primeiro número: \", str(num1))\n",
    "    print(\"Segundo número: \",str(num2))\n",
    "    print(\"Soma:\", num1 + num2)"
   ]
  },
  {
   "cell_type": "code",
   "execution_count": 34,
   "id": "4791e8c0",
   "metadata": {},
   "outputs": [
    {
     "name": "stdout",
     "output_type": "stream",
     "text": [
      "Primeiro número:  5\n",
      "Segundo número:  2\n",
      "Soma: 7\n"
     ]
    }
   ],
   "source": [
    "somar(5,2)"
   ]
  },
  {
   "cell_type": "code",
   "execution_count": 35,
   "id": "ab3e6148",
   "metadata": {},
   "outputs": [
    {
     "name": "stdout",
     "output_type": "stream",
     "text": [
      "Primeiro número:  240\n",
      "Segundo número:  30\n",
      "Soma: 270\n"
     ]
    }
   ],
   "source": [
    "# Chamando a função e passando parâmetros\n",
    "somar(240,30)"
   ]
  },
  {
   "cell_type": "code",
   "execution_count": 36,
   "id": "643f59d0",
   "metadata": {},
   "outputs": [
    {
     "name": "stdout",
     "output_type": "stream",
     "text": [
      "Primeiro número:  300\n",
      "Segundo número:  20\n",
      "Soma: 320\n"
     ]
    }
   ],
   "source": [
    "somar(300,20)"
   ]
  },
  {
   "cell_type": "code",
   "execution_count": 50,
   "id": "15221070",
   "metadata": {},
   "outputs": [],
   "source": [
    "#Funções com número variável de argumentos\n",
    "def printVarInfo(arg1, *tupla):\n",
    "    print(\"O primeiro paramêtro: \", arg1)\n",
    "    for item in tupla:\n",
    "        print(\"O paramêtro passado foi: \",item)\n",
    "    return;"
   ]
  },
  {
   "cell_type": "code",
   "execution_count": 51,
   "id": "e2d413f3",
   "metadata": {},
   "outputs": [
    {
     "name": "stdout",
     "output_type": "stream",
     "text": [
      "O primeiro paramêtro:  Chocolate\n",
      "O paramêtro passado foi:  Leite\n"
     ]
    }
   ],
   "source": [
    "printVarInfo(\"Chocolate\",\"Leite\")"
   ]
  },
  {
   "cell_type": "code",
   "execution_count": 52,
   "id": "29072466",
   "metadata": {},
   "outputs": [
    {
     "name": "stdout",
     "output_type": "stream",
     "text": [
      "O primeiro paramêtro:  30\n"
     ]
    }
   ],
   "source": [
    "printVarInfo(30)"
   ]
  },
  {
   "cell_type": "markdown",
   "id": "16240b1c",
   "metadata": {},
   "source": [
    "## Escopo Global e Local"
   ]
  },
  {
   "cell_type": "code",
   "execution_count": 1,
   "id": "f732b82d",
   "metadata": {},
   "outputs": [],
   "source": [
    "# Variável GLobal\n",
    "var_global = 10 # Esta é uma variável global\n",
    "def multiplica_numeros(num1,num2):\n",
    "    var_global = num1*num2 # Esta é uma variável local\n",
    "    print(var_global)"
   ]
  },
  {
   "cell_type": "code",
   "execution_count": 2,
   "id": "d997f653",
   "metadata": {
    "scrolled": true
   },
   "outputs": [
    {
     "name": "stdout",
     "output_type": "stream",
     "text": [
      "100\n"
     ]
    }
   ],
   "source": [
    "multiplica_numeros(5,20)"
   ]
  },
  {
   "cell_type": "code",
   "execution_count": 3,
   "id": "6c3cfac0",
   "metadata": {},
   "outputs": [],
   "source": [
    "#Variável Global\n",
    "var_global = 10 # Esta é uma variável global\n",
    "\n",
    "# Função\n",
    "def multiplica_numeros(num1,num2):\n",
    "    var_local = num1*num2\n",
    "    print(var_local)"
   ]
  },
  {
   "cell_type": "code",
   "execution_count": 4,
   "id": "ab3ec2bc",
   "metadata": {},
   "outputs": [
    {
     "name": "stdout",
     "output_type": "stream",
     "text": [
      "50\n"
     ]
    }
   ],
   "source": [
    "multiplica_numeros(10,5)"
   ]
  },
  {
   "cell_type": "markdown",
   "id": "49f89726",
   "metadata": {},
   "source": [
    "# Funções Built-in"
   ]
  },
  {
   "cell_type": "code",
   "execution_count": 8,
   "id": "3a12806f",
   "metadata": {},
   "outputs": [
    {
     "data": {
      "text/plain": [
       "10"
      ]
     },
     "execution_count": 8,
     "metadata": {},
     "output_type": "execute_result"
    }
   ],
   "source": [
    "abs(-10)"
   ]
  },
  {
   "cell_type": "code",
   "execution_count": 10,
   "id": "25222c7d",
   "metadata": {},
   "outputs": [
    {
     "data": {
      "text/plain": [
       "23"
      ]
     },
     "execution_count": 10,
     "metadata": {},
     "output_type": "execute_result"
    }
   ],
   "source": [
    "abs(-+23)"
   ]
  },
  {
   "cell_type": "code",
   "execution_count": 16,
   "id": "6c424a95",
   "metadata": {},
   "outputs": [
    {
     "data": {
      "text/plain": [
       "False"
      ]
     },
     "execution_count": 16,
     "metadata": {},
     "output_type": "execute_result"
    }
   ],
   "source": [
    "bool(0)"
   ]
  },
  {
   "cell_type": "code",
   "execution_count": 17,
   "id": "fadf996a",
   "metadata": {},
   "outputs": [
    {
     "data": {
      "text/plain": [
       "True"
      ]
     },
     "execution_count": 17,
     "metadata": {},
     "output_type": "execute_result"
    }
   ],
   "source": [
    "bool(1)"
   ]
  },
  {
   "cell_type": "code",
   "execution_count": 18,
   "id": "cb53edda",
   "metadata": {},
   "outputs": [
    {
     "data": {
      "text/plain": [
       "4"
      ]
     },
     "execution_count": 18,
     "metadata": {},
     "output_type": "execute_result"
    }
   ],
   "source": [
    "int(4.7)"
   ]
  },
  {
   "cell_type": "code",
   "execution_count": 19,
   "id": "277a54f9",
   "metadata": {},
   "outputs": [
    {
     "data": {
      "text/plain": [
       "3"
      ]
     },
     "execution_count": 19,
     "metadata": {},
     "output_type": "execute_result"
    }
   ],
   "source": [
    "int(3.1)"
   ]
  },
  {
   "cell_type": "code",
   "execution_count": 20,
   "id": "0b1d3598",
   "metadata": {},
   "outputs": [
    {
     "data": {
      "text/plain": [
       "'13'"
      ]
     },
     "execution_count": 20,
     "metadata": {},
     "output_type": "execute_result"
    }
   ],
   "source": [
    "str(13)"
   ]
  },
  {
   "cell_type": "code",
   "execution_count": 21,
   "id": "00d17339",
   "metadata": {},
   "outputs": [
    {
     "data": {
      "text/plain": [
       "10.0"
      ]
     },
     "execution_count": 21,
     "metadata": {},
     "output_type": "execute_result"
    }
   ],
   "source": [
    "float(10)"
   ]
  },
  {
   "cell_type": "code",
   "execution_count": 1,
   "id": "d9aeb205",
   "metadata": {},
   "outputs": [
    {
     "ename": "SyntaxError",
     "evalue": "invalid syntax (567363931.py, line 4)",
     "output_type": "error",
     "traceback": [
      "\u001b[1;36m  File \u001b[1;32m\"C:\\Users\\esdra\\AppData\\Local\\Temp\\ipykernel_22632\\567363931.py\"\u001b[1;36m, line \u001b[1;32m4\u001b[0m\n\u001b[1;33m    print()\"Você pode acessar Redes Sociais sem supervisão\")\u001b[0m\n\u001b[1;37m           ^\u001b[0m\n\u001b[1;31mSyntaxError\u001b[0m\u001b[1;31m:\u001b[0m invalid syntax\n"
     ]
    }
   ],
   "source": [
    "# Erro ao executar por causa da conversão\n",
    "idade = input(\"Digite um idade: \")\n",
    "if idade > 13:\n",
    "    print()\"Você pode acessar Redes Sociais sem supervisão\")\n",
    "else:\n",
    "    print('Seus pais não deveriam deixar você acessar Redes Sociais sem supervisão!')"
   ]
  },
  {
   "cell_type": "code",
   "execution_count": 2,
   "id": "a81e047c",
   "metadata": {},
   "outputs": [
    {
     "name": "stdout",
     "output_type": "stream",
     "text": [
      "Digite um idade: 10\n",
      "Seus pais não deveriam deixar você acessar Redes Sociais sem supervisão!\n"
     ]
    }
   ],
   "source": [
    "idade = int(input(\"Digite um idade: \"))\n",
    "if idade > 13:\n",
    "    print(\"Você pode acessar Redes Sociais sem supervisão\")\n",
    "else:\n",
    "    print('Seus pais não deveriam deixar você acessar Redes Sociais sem supervisão!')"
   ]
  },
  {
   "cell_type": "code",
   "execution_count": 28,
   "id": "a6c8bfcc",
   "metadata": {},
   "outputs": [
    {
     "data": {
      "text/plain": [
       "23"
      ]
     },
     "execution_count": 28,
     "metadata": {},
     "output_type": "execute_result"
    }
   ],
   "source": [
    "int(\"23\")"
   ]
  },
  {
   "cell_type": "code",
   "execution_count": 30,
   "id": "62013759",
   "metadata": {},
   "outputs": [
    {
     "data": {
      "text/plain": [
       "123.0"
      ]
     },
     "execution_count": 30,
     "metadata": {},
     "output_type": "execute_result"
    }
   ],
   "source": [
    "float(\"123\")"
   ]
  },
  {
   "cell_type": "code",
   "execution_count": 31,
   "id": "09994a7d",
   "metadata": {},
   "outputs": [
    {
     "data": {
      "text/plain": [
       "'14'"
      ]
     },
     "execution_count": 31,
     "metadata": {},
     "output_type": "execute_result"
    }
   ],
   "source": [
    "str(14)"
   ]
  },
  {
   "cell_type": "code",
   "execution_count": 32,
   "id": "61de9c1d",
   "metadata": {},
   "outputs": [
    {
     "data": {
      "text/plain": [
       "4"
      ]
     },
     "execution_count": 32,
     "metadata": {},
     "output_type": "execute_result"
    }
   ],
   "source": [
    "len([23,32,10,15])"
   ]
  },
  {
   "cell_type": "code",
   "execution_count": 40,
   "id": "127a7fda",
   "metadata": {},
   "outputs": [],
   "source": [
    "array = [2,2,4]"
   ]
  },
  {
   "cell_type": "code",
   "execution_count": 41,
   "id": "9f66ef93",
   "metadata": {},
   "outputs": [
    {
     "data": {
      "text/plain": [
       "4"
      ]
     },
     "execution_count": 41,
     "metadata": {},
     "output_type": "execute_result"
    }
   ],
   "source": [
    "max(array)"
   ]
  },
  {
   "cell_type": "code",
   "execution_count": 42,
   "id": "9a6c5059",
   "metadata": {},
   "outputs": [
    {
     "data": {
      "text/plain": [
       "2"
      ]
     },
     "execution_count": 42,
     "metadata": {},
     "output_type": "execute_result"
    }
   ],
   "source": [
    "min(array)"
   ]
  },
  {
   "cell_type": "code",
   "execution_count": 46,
   "id": "00cf339a",
   "metadata": {},
   "outputs": [],
   "source": [
    "list = [15,10,44,12]"
   ]
  },
  {
   "cell_type": "code",
   "execution_count": 48,
   "id": "fbfd0557",
   "metadata": {},
   "outputs": [
    {
     "data": {
      "text/plain": [
       "81"
      ]
     },
     "execution_count": 48,
     "metadata": {},
     "output_type": "execute_result"
    }
   ],
   "source": [
    "sum(list)"
   ]
  },
  {
   "cell_type": "markdown",
   "id": "af358dd3",
   "metadata": {},
   "source": [
    "## Criando Funções usando outras funções"
   ]
  },
  {
   "cell_type": "code",
   "execution_count": 12,
   "id": "e8c959db",
   "metadata": {},
   "outputs": [],
   "source": [
    "import math\n",
    "\n",
    "# Verificando se um número é primo \n",
    "def numPrimo(num):\n",
    "    if(num % 2) == 0 and num > 2:\n",
    "        return \"Este número não é primo\"\n",
    "    for i in range(3, int(math.sqrt(num)) + 1, 2):\n",
    "        if (num%i) == 0:\n",
    "            return \"Este número não é primo\"\n",
    "    return \"Este número é primo\""
   ]
  },
  {
   "cell_type": "code",
   "execution_count": 13,
   "id": "b49eeee3",
   "metadata": {},
   "outputs": [
    {
     "data": {
      "text/plain": [
       "'Este número é primo'"
      ]
     },
     "execution_count": 13,
     "metadata": {},
     "output_type": "execute_result"
    }
   ],
   "source": [
    "numPrimo(5)"
   ]
  },
  {
   "cell_type": "code",
   "execution_count": 28,
   "id": "b81b9d55",
   "metadata": {},
   "outputs": [],
   "source": [
    "caixa_baixa = \"ESTE TEXTO VAI RETORNAR EM MINUSCULO\""
   ]
  },
  {
   "cell_type": "code",
   "execution_count": 30,
   "id": "e206df1c",
   "metadata": {},
   "outputs": [],
   "source": [
    "def lowercase(text):\n",
    "    return text.lower()"
   ]
  },
  {
   "cell_type": "code",
   "execution_count": 31,
   "id": "7262fe66",
   "metadata": {},
   "outputs": [],
   "source": [
    "lowercased_string = lowercase(caixa_baixa)"
   ]
  },
  {
   "cell_type": "code",
   "execution_count": 32,
   "id": "da30ed18",
   "metadata": {},
   "outputs": [
    {
     "data": {
      "text/plain": [
       "'este texto vai retornar em minusculo'"
      ]
     },
     "execution_count": 32,
     "metadata": {},
     "output_type": "execute_result"
    }
   ],
   "source": [
    "lowercased_string"
   ]
  },
  {
   "cell_type": "markdown",
   "id": "0c7c0617",
   "metadata": {},
   "source": [
    "## Fazendo Split dos Dados"
   ]
  },
  {
   "cell_type": "code",
   "execution_count": null,
   "id": "d69ee617",
   "metadata": {},
   "outputs": [],
   "source": [
    "# Fazendo split dos dados\n",
    "def split_string_palavras(text):\n",
    "    return text.split(\" \")"
   ]
  },
  {
   "cell_type": "code",
   "execution_count": null,
   "id": "4f482c91",
   "metadata": {},
   "outputs": [],
   "source": [
    "texto = \"Esta função será bastante útil para separar grandes volumes de dados.\"\n",
    "a = texto.split(\" \")"
   ]
  },
  {
   "cell_type": "code",
   "execution_count": null,
   "id": "83d2b90e",
   "metadata": {},
   "outputs": [],
   "source": [
    "print(a)"
   ]
  },
  {
   "cell_type": "code",
   "execution_count": null,
   "id": "e271643e",
   "metadata": {},
   "outputs": [],
   "source": []
  }
 ],
 "metadata": {
  "kernelspec": {
   "display_name": "Python 3 (ipykernel)",
   "language": "python",
   "name": "python3"
  },
  "language_info": {
   "codemirror_mode": {
    "name": "ipython",
    "version": 3
   },
   "file_extension": ".py",
   "mimetype": "text/x-python",
   "name": "python",
   "nbconvert_exporter": "python",
   "pygments_lexer": "ipython3",
   "version": "3.9.13"
  }
 },
 "nbformat": 4,
 "nbformat_minor": 5
}
