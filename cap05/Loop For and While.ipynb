{
 "cells": [
  {
   "cell_type": "markdown",
   "id": "6301c8b2",
   "metadata": {},
   "source": [
    "# Data Science Academy\n",
    "## Fundamentos de Linguagem Python Para Análise de Dados e Data Science\n",
    "## Capítulo 5 - Loop for and While"
   ]
  },
  {
   "cell_type": "code",
   "execution_count": 1,
   "id": "96e8aa1c",
   "metadata": {},
   "outputs": [
    {
     "name": "stdout",
     "output_type": "stream",
     "text": [
      "Versão da Linguagem Python Usada Neste Jupyter Notebook: 3.9.13\n"
     ]
    }
   ],
   "source": [
    "# Versão da Linguagem Python\n",
    "from platform import python_version\n",
    "print('Versão da Linguagem Python Usada Neste Jupyter Notebook:', python_version())"
   ]
  },
  {
   "cell_type": "markdown",
   "id": "688d6bac",
   "metadata": {},
   "source": [
    "Inicializa uma lista vazia para armazenar os números primos\n",
    "Para cada numero N entre 2 e 30:\n",
    "    Inicialize uma variável eh_primo como verdadeira\n",
    "    Para cada numero i entre 2 e N/2:\n",
    "        Se N é divisível por i, então:\n",
    "            Altere a variável eh_primo para falso\n",
    "            Pare de verificar os outros números\n",
    "    Se a variável eh_primo ainda é verdadeira, adicione N à lista de números primos\n",
    "    Imprima a lista de números primos"
   ]
  },
  {
   "cell_type": "code",
   "execution_count": 2,
   "id": "8920fb56",
   "metadata": {},
   "outputs": [
    {
     "name": "stdout",
     "output_type": "stream",
     "text": [
      "[1, 2, 3, 5, 7, 11, 13, 17, 19, 23, 29]\n",
      "Wall time: 0 ns\n"
     ]
    }
   ],
   "source": [
    "%%time\n",
    "primo = []\n",
    "\n",
    "for num in range(1,31):\n",
    "    \n",
    "    #Variavel de controle\n",
    "    eh_primo = True\n",
    "    \n",
    "    # Loop while para verificar se é primo\n",
    "    i = 2\n",
    "    while i <= num // 2:\n",
    "        if num % i == 0:\n",
    "            eh_primo = False\n",
    "            break\n",
    "        i +=1\n",
    "    if eh_primo:\n",
    "        primo.append(num)\n",
    "print(primo)"
   ]
  },
  {
   "cell_type": "code",
   "execution_count": 3,
   "id": "f547e067",
   "metadata": {},
   "outputs": [
    {
     "name": "stdout",
     "output_type": "stream",
     "text": [
      "2 é um número primo.\n",
      "3 é um número primo.\n",
      "5 é um número primo.\n",
      "7 é um número primo.\n",
      "11 é um número primo.\n",
      "13 é um número primo.\n",
      "17 é um número primo.\n",
      "19 é um número primo.\n",
      "23 é um número primo.\n",
      "29 é um número primo.\n",
      "Wall time: 0 ns\n"
     ]
    }
   ],
   "source": [
    "%%time\n",
    "\n",
    "#Encontrando números primos entre 2 e 30 usando loo´for e while (outro exemplo)\n",
    "\n",
    "#Loop for para percorrer números de 2 a 30\n",
    "for i in range(2,30):\n",
    "    #Variável de controle\n",
    "    j = 2\n",
    "    # Contador\n",
    "    valor = 0\n",
    "    \n",
    "    while j < i:\n",
    "        if i % j == 0:\n",
    "            valor = 1\n",
    "            j +=1\n",
    "        else:\n",
    "            j +=1\n",
    "    if valor == 0:\n",
    "        print(str(i) + \" é um número primo.\")\n",
    "        valor = 0\n",
    "    else:\n",
    "        valor = 0"
   ]
  },
  {
   "cell_type": "markdown",
   "id": "84a8ac17",
   "metadata": {},
   "source": [
    "### Fim "
   ]
  }
 ],
 "metadata": {
  "kernelspec": {
   "display_name": "Python 3 (ipykernel)",
   "language": "python",
   "name": "python3"
  },
  "language_info": {
   "codemirror_mode": {
    "name": "ipython",
    "version": 3
   },
   "file_extension": ".py",
   "mimetype": "text/x-python",
   "name": "python",
   "nbconvert_exporter": "python",
   "pygments_lexer": "ipython3",
   "version": "3.9.13"
  }
 },
 "nbformat": 4,
 "nbformat_minor": 5
}
