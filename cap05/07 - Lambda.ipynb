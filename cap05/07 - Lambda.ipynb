{
 "cells": [
  {
   "cell_type": "markdown",
   "id": "e5db39cf",
   "metadata": {},
   "source": [
    "# Data Science Academy\n",
    "\n",
    "## Fundamentos de Linguagem Python Para Análise de Dados e Data Science\n",
    "\n",
    "# Capítulo 5 - Expressão Lambda"
   ]
  },
  {
   "cell_type": "markdown",
   "id": "85ad5223",
   "metadata": {},
   "source": [
    "# Expressão Lambda"
   ]
  },
  {
   "cell_type": "code",
   "execution_count": 7,
   "id": "e03330fc",
   "metadata": {},
   "outputs": [],
   "source": [
    "# Definindo uma função - 3 linhas de código\n",
    "def potencia(num):\n",
    "    resultado = num ** 2\n",
    "    return resultado"
   ]
  },
  {
   "cell_type": "code",
   "execution_count": 8,
   "id": "1123a3c6",
   "metadata": {},
   "outputs": [
    {
     "data": {
      "text/plain": [
       "25"
      ]
     },
     "execution_count": 8,
     "metadata": {},
     "output_type": "execute_result"
    }
   ],
   "source": [
    "potencia(5)"
   ]
  },
  {
   "cell_type": "code",
   "execution_count": 9,
   "id": "661c4eeb",
   "metadata": {},
   "outputs": [],
   "source": [
    "# Definindo uma função - 2 linhas de código\n",
    "def potencia2(num):\n",
    "    return num ** 2"
   ]
  },
  {
   "cell_type": "code",
   "execution_count": 10,
   "id": "04744264",
   "metadata": {},
   "outputs": [
    {
     "data": {
      "text/plain": [
       "25"
      ]
     },
     "execution_count": 10,
     "metadata": {},
     "output_type": "execute_result"
    }
   ],
   "source": [
    "potencia2(5)"
   ]
  },
  {
   "cell_type": "code",
   "execution_count": 15,
   "id": "3abdf0e1",
   "metadata": {},
   "outputs": [],
   "source": [
    "def potencia3(num): return num ** 2"
   ]
  },
  {
   "cell_type": "code",
   "execution_count": 17,
   "id": "582667dc",
   "metadata": {},
   "outputs": [
    {
     "data": {
      "text/plain": [
       "25"
      ]
     },
     "execution_count": 17,
     "metadata": {},
     "output_type": "execute_result"
    }
   ],
   "source": [
    "potencia3(5)"
   ]
  },
  {
   "cell_type": "code",
   "execution_count": 18,
   "id": "464a195d",
   "metadata": {},
   "outputs": [],
   "source": [
    "# Definindo uma expressão lambda (função anônuma)\n",
    "potencia = lambda num: num **2"
   ]
  },
  {
   "cell_type": "code",
   "execution_count": 19,
   "id": "e1857361",
   "metadata": {},
   "outputs": [
    {
     "data": {
      "text/plain": [
       "49"
      ]
     },
     "execution_count": 19,
     "metadata": {},
     "output_type": "execute_result"
    }
   ],
   "source": [
    "potencia(7)"
   ]
  },
  {
   "cell_type": "code",
   "execution_count": 20,
   "id": "cd3b4a15",
   "metadata": {},
   "outputs": [],
   "source": [
    "# Lembre: operações de comparação retornam boolean: true or false\n",
    "Par = lambda x: x%2 ==0"
   ]
  },
  {
   "cell_type": "code",
   "execution_count": 23,
   "id": "c21053e1",
   "metadata": {},
   "outputs": [
    {
     "data": {
      "text/plain": [
       "False"
      ]
     },
     "execution_count": 23,
     "metadata": {},
     "output_type": "execute_result"
    }
   ],
   "source": [
    "Par(1)"
   ]
  },
  {
   "cell_type": "code",
   "execution_count": 24,
   "id": "41b16807",
   "metadata": {},
   "outputs": [
    {
     "data": {
      "text/plain": [
       "True"
      ]
     },
     "execution_count": 24,
     "metadata": {},
     "output_type": "execute_result"
    }
   ],
   "source": [
    "Par(2)"
   ]
  },
  {
   "cell_type": "code",
   "execution_count": 42,
   "id": "cbc99351",
   "metadata": {},
   "outputs": [],
   "source": [
    "first = lambda s: s[0]"
   ]
  },
  {
   "cell_type": "code",
   "execution_count": 43,
   "id": "5d223efe",
   "metadata": {},
   "outputs": [
    {
     "data": {
      "text/plain": [
       "'P'"
      ]
     },
     "execution_count": 43,
     "metadata": {},
     "output_type": "execute_result"
    }
   ],
   "source": [
    "first(\"Python\")"
   ]
  },
  {
   "cell_type": "code",
   "execution_count": 44,
   "id": "9ab5f53e",
   "metadata": {},
   "outputs": [],
   "source": [
    "reverso = lambda s: s[::-1]"
   ]
  },
  {
   "cell_type": "code",
   "execution_count": 45,
   "id": "a70d946d",
   "metadata": {},
   "outputs": [
    {
     "data": {
      "text/plain": [
       "'nohtyP'"
      ]
     },
     "execution_count": 45,
     "metadata": {},
     "output_type": "execute_result"
    }
   ],
   "source": [
    "reverso(\"Python\")"
   ]
  },
  {
   "cell_type": "code",
   "execution_count": 46,
   "id": "e1809778",
   "metadata": {},
   "outputs": [],
   "source": [
    "addNum = lambda x,y: x+y"
   ]
  },
  {
   "cell_type": "code",
   "execution_count": 47,
   "id": "e04d933c",
   "metadata": {},
   "outputs": [
    {
     "data": {
      "text/plain": [
       "5"
      ]
     },
     "execution_count": 47,
     "metadata": {},
     "output_type": "execute_result"
    }
   ],
   "source": [
    "addNum(2,3)"
   ]
  },
  {
   "cell_type": "code",
   "execution_count": null,
   "id": "555d6cc3",
   "metadata": {},
   "outputs": [],
   "source": []
  }
 ],
 "metadata": {
  "kernelspec": {
   "display_name": "Python 3 (ipykernel)",
   "language": "python",
   "name": "python3"
  },
  "language_info": {
   "codemirror_mode": {
    "name": "ipython",
    "version": 3
   },
   "file_extension": ".py",
   "mimetype": "text/x-python",
   "name": "python",
   "nbconvert_exporter": "python",
   "pygments_lexer": "ipython3",
   "version": "3.9.13"
  }
 },
 "nbformat": 4,
 "nbformat_minor": 5
}
