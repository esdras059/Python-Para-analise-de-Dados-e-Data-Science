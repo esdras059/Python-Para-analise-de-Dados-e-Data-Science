{
 "cells": [
  {
   "cell_type": "markdown",
   "id": "81537ce5",
   "metadata": {},
   "source": [
    "# Data Science Academy\n",
    "\n",
    "## Fundamentos de Linguagem Python Para Análise de Dados e Data Science\n",
    "\n",
    "# Capítulo 5 - Loop While"
   ]
  },
  {
   "cell_type": "code",
   "execution_count": null,
   "id": "3c444829",
   "metadata": {},
   "outputs": [],
   "source": [
    "# Versão da Linguagem Python\n",
    "from platform import python_version\n",
    "print('Versão da Linguagem Python Usada Neste Jupyter Notebook:', python_version())"
   ]
  },
  {
   "cell_type": "markdown",
   "id": "00bca518",
   "metadata": {},
   "source": [
    "## Loop While"
   ]
  },
  {
   "cell_type": "code",
   "execution_count": null,
   "id": "3020b2bc",
   "metadata": {},
   "outputs": [],
   "source": [
    "# Usando o loop while para imprimir os valores de 0 a 9\n",
    "# A condição tem que deixar de ser verdadeira dentro do loop, senão pode travar o navegador ou mesmo o computador\n",
    "valor = 0\n",
    "while valor < 10:\n",
    "    print(valor)\n",
    "    valor +=1"
   ]
  },
  {
   "cell_type": "code",
   "execution_count": 1,
   "id": "998380dd",
   "metadata": {},
   "outputs": [],
   "source": [
    "# Entra no loop somente se a condição for verdadeira\n",
    "valor = 11\n",
    "while valor < 10:\n",
    "    print(valor)\n",
    "    valor+=1"
   ]
  },
  {
   "cell_type": "code",
   "execution_count": 2,
   "id": "65cfc618",
   "metadata": {},
   "outputs": [
    {
     "name": "stdout",
     "output_type": "stream",
     "text": [
      "O valor do x na interação é  0\n",
      "Ainda é menor do que 10, somando recebendo +1\n",
      "O valor do x na interação é  1\n",
      "Ainda é menor do que 10, somando recebendo +1\n",
      "O valor do x na interação é  2\n",
      "Ainda é menor do que 10, somando recebendo +1\n",
      "O valor do x na interação é  3\n",
      "Ainda é menor do que 10, somando recebendo +1\n",
      "O valor do x na interação é  4\n",
      "Ainda é menor do que 10, somando recebendo +1\n",
      "O valor do x na interação é  5\n",
      "Ainda é menor do que 10, somando recebendo +1\n",
      "O valor do x na interação é  6\n",
      "Ainda é menor do que 10, somando recebendo +1\n",
      "O valor do x na interação é  7\n",
      "Ainda é menor do que 10, somando recebendo +1\n",
      "O valor do x na interação é  8\n",
      "Ainda é menor do que 10, somando recebendo +1\n",
      "O valor do x na interação é  9\n",
      "Ainda é menor do que 10, somando recebendo +1\n",
      "Loop concluído\n",
      "10\n"
     ]
    }
   ],
   "source": [
    "# Também é possível usar a claúsula else para encerrar o loop While\n",
    "x = 0\n",
    "while x < 10:\n",
    "    print(\"O valor do x na interação é \",x)\n",
    "    print(\"Ainda é menor do que 10, somando recebendo +1\")\n",
    "    x+=1\n",
    "else:\n",
    "    print(\"Loop concluído\")\n",
    "print(x)"
   ]
  },
  {
   "cell_type": "markdown",
   "id": "90a20303",
   "metadata": {},
   "source": [
    "## Pass, Break, Continue"
   ]
  },
  {
   "cell_type": "code",
   "execution_count": 3,
   "id": "9c0bb05a",
   "metadata": {},
   "outputs": [
    {
     "name": "stdout",
     "output_type": "stream",
     "text": [
      "0\n",
      "1\n",
      "2\n",
      "3\n"
     ]
    }
   ],
   "source": [
    "# Se encontrarmos o número 4 interrompemos o loop\n",
    "valor = 0\n",
    "while valor < 10:\n",
    "    if valor == 4:\n",
    "        break\n",
    "    else:\n",
    "        pass\n",
    "    print(valor)\n",
    "    valor = valor +1"
   ]
  },
  {
   "cell_type": "code",
   "execution_count": 14,
   "id": "957e67eb",
   "metadata": {},
   "outputs": [
    {
     "name": "stdout",
     "output_type": "stream",
     "text": [
      "P\n",
      "y\n",
      "t\n",
      "h\n",
      "o\n",
      "n\n",
      " \n",
      "é\n",
      " \n",
      " \n",
      "i\n",
      "n\n",
      "c\n",
      "r\n",
      "í\n",
      "v\n",
      "e\n",
      "l\n"
     ]
    }
   ],
   "source": [
    " #Desconsideramos a letra z ao imprimir os caracteres da frase\n",
    "for letra in \"Python é zzz incrível\":\n",
    "    if letra == \"z\":\n",
    "        continue\n",
    "    print(letra)"
   ]
  },
  {
   "cell_type": "code",
   "execution_count": null,
   "id": "e2c170ff",
   "metadata": {},
   "outputs": [],
   "source": []
  }
 ],
 "metadata": {
  "kernelspec": {
   "display_name": "Python 3 (ipykernel)",
   "language": "python",
   "name": "python3"
  },
  "language_info": {
   "codemirror_mode": {
    "name": "ipython",
    "version": 3
   },
   "file_extension": ".py",
   "mimetype": "text/x-python",
   "name": "python",
   "nbconvert_exporter": "python",
   "pygments_lexer": "ipython3",
   "version": "3.9.13"
  }
 },
 "nbformat": 4,
 "nbformat_minor": 5
}
