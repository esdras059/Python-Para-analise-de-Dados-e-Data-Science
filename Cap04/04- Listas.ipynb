{
 "cells": [
  {
   "cell_type": "markdown",
   "id": "b6b85f0b",
   "metadata": {},
   "source": [
    "# Data Science Academy\n",
    "\n",
    "## Fundamentos de Linguagem Python Para Análise de Dados e Data Science\n",
    "\n",
    "## Capítulo 4 - Estruturas de Dados (Listas)"
   ]
  },
  {
   "cell_type": "code",
   "execution_count": null,
   "id": "ec917706",
   "metadata": {},
   "outputs": [],
   "source": [
    "# Versão da Linguagem Python\n",
    "from platform import python_version\n",
    "print('Versão da Linguagem Python Usada Neste Jupyter Notebook:', python_version())"
   ]
  },
  {
   "cell_type": "markdown",
   "id": "3397ac78",
   "metadata": {},
   "source": [
    "## Trabalhando com Listas"
   ]
  },
  {
   "cell_type": "code",
   "execution_count": 21,
   "id": "16632d78",
   "metadata": {},
   "outputs": [],
   "source": [
    "#Criando uma lista\n",
    "lista1 = [\"arroz, feijão, tomate, frango, batata\"]"
   ]
  },
  {
   "cell_type": "code",
   "execution_count": 22,
   "id": "85db79d1",
   "metadata": {},
   "outputs": [
    {
     "data": {
      "text/plain": [
       "list"
      ]
     },
     "execution_count": 22,
     "metadata": {},
     "output_type": "execute_result"
    }
   ],
   "source": [
    "type(lista1)"
   ]
  },
  {
   "cell_type": "code",
   "execution_count": 23,
   "id": "f91f49bc",
   "metadata": {},
   "outputs": [
    {
     "name": "stdout",
     "output_type": "stream",
     "text": [
      "['arroz, feijão, tomate, frango, batata']\n"
     ]
    }
   ],
   "source": [
    "# Imprimindo a lista\n",
    "print(lista1)"
   ]
  },
  {
   "cell_type": "code",
   "execution_count": 14,
   "id": "beb60fd0",
   "metadata": {
    "scrolled": true
   },
   "outputs": [
    {
     "name": "stdout",
     "output_type": "stream",
     "text": [
      "['arroz', 'feijão', 'frango', 'tomate']\n"
     ]
    }
   ],
   "source": [
    "# Criando outra lista\n",
    "lista2 = [\"arroz\", \"feijão\", \"frango\", \"tomate\"]"
   ]
  },
  {
   "cell_type": "code",
   "execution_count": 15,
   "id": "4b00dbb0",
   "metadata": {},
   "outputs": [
    {
     "data": {
      "text/plain": [
       "list"
      ]
     },
     "execution_count": 15,
     "metadata": {},
     "output_type": "execute_result"
    }
   ],
   "source": [
    "type(lista2)"
   ]
  },
  {
   "cell_type": "code",
   "execution_count": null,
   "id": "cb361d8d",
   "metadata": {},
   "outputs": [],
   "source": [
    "# Imprimindo a lista\n",
    "print(lista2)"
   ]
  },
  {
   "cell_type": "code",
   "execution_count": 16,
   "id": "0bb97172",
   "metadata": {},
   "outputs": [
    {
     "data": {
      "text/plain": [
       "list"
      ]
     },
     "execution_count": 16,
     "metadata": {},
     "output_type": "execute_result"
    }
   ],
   "source": [
    "#Criando lista misturando tipos diferentes\n",
    "lista3 = [23, 100, \"Cientista de dados\"]\n",
    "type(lista3)"
   ]
  },
  {
   "cell_type": "code",
   "execution_count": 17,
   "id": "9ae5b0bc",
   "metadata": {},
   "outputs": [
    {
     "name": "stdout",
     "output_type": "stream",
     "text": [
      "[23, 100, 'Cientista de dados']\n"
     ]
    }
   ],
   "source": [
    "#Imprimindo \n",
    "print(lista3)"
   ]
  },
  {
   "cell_type": "code",
   "execution_count": 32,
   "id": "f71da8d5",
   "metadata": {},
   "outputs": [],
   "source": [
    "#Atribuindo cada valor da lista a uma variável:\n",
    "item1 = lista3[0]\n",
    "item2 = lista3[1]\n",
    "item3 = lista3[2]"
   ]
  },
  {
   "cell_type": "code",
   "execution_count": 33,
   "id": "f6549c92",
   "metadata": {},
   "outputs": [
    {
     "name": "stdout",
     "output_type": "stream",
     "text": [
      "23 100 Cientista de dados\n"
     ]
    }
   ],
   "source": [
    "#Imprimindo as variáveis\n",
    "print(item1, item2, item3)"
   ]
  },
  {
   "cell_type": "markdown",
   "id": "7db202ff",
   "metadata": {},
   "source": [
    "## Atualizando um Item da Lista"
   ]
  },
  {
   "cell_type": "code",
   "execution_count": 34,
   "id": "ac511c84",
   "metadata": {},
   "outputs": [
    {
     "data": {
      "text/plain": [
       "['arroz', 'feijão', 'frango', 'tomate']"
      ]
     },
     "execution_count": 34,
     "metadata": {},
     "output_type": "execute_result"
    }
   ],
   "source": [
    "# Imprimindo um item da lista\n",
    "lista2"
   ]
  },
  {
   "cell_type": "code",
   "execution_count": 35,
   "id": "d2a8ecdd",
   "metadata": {},
   "outputs": [
    {
     "data": {
      "text/plain": [
       "'frango'"
      ]
     },
     "execution_count": 35,
     "metadata": {},
     "output_type": "execute_result"
    }
   ],
   "source": [
    "lista2[2]"
   ]
  },
  {
   "cell_type": "code",
   "execution_count": 37,
   "id": "7dfc841a",
   "metadata": {},
   "outputs": [
    {
     "name": "stdout",
     "output_type": "stream",
     "text": [
      "['arroz', 'feijão', 'Chocolate', 'tomate']\n"
     ]
    }
   ],
   "source": [
    "\"Atualizando um item da lista\"\n",
    "lista2[2] = \"Chocolate\"\n",
    "print(lista2)"
   ]
  },
  {
   "cell_type": "markdown",
   "id": "e2f3f604",
   "metadata": {},
   "source": [
    "## Deletando um Item da Lista"
   ]
  },
  {
   "cell_type": "code",
   "execution_count": 38,
   "id": "85cff491",
   "metadata": {},
   "outputs": [],
   "source": [
    "#Deletando um item específico da lista\n",
    "del lista2[2]"
   ]
  },
  {
   "cell_type": "code",
   "execution_count": 39,
   "id": "1b1c4402",
   "metadata": {},
   "outputs": [
    {
     "data": {
      "text/plain": [
       "['arroz', 'feijão', 'tomate']"
      ]
     },
     "execution_count": 39,
     "metadata": {},
     "output_type": "execute_result"
    }
   ],
   "source": [
    "lista2"
   ]
  },
  {
   "cell_type": "code",
   "execution_count": 40,
   "id": "d3a182f6",
   "metadata": {},
   "outputs": [
    {
     "ename": "IndexError",
     "evalue": "list assignment index out of range",
     "output_type": "error",
     "traceback": [
      "\u001b[1;31m---------------------------------------------------------------------------\u001b[0m",
      "\u001b[1;31mIndexError\u001b[0m                                Traceback (most recent call last)",
      "\u001b[1;32m~\\AppData\\Local\\Temp\\ipykernel_10400\\288257350.py\u001b[0m in \u001b[0;36m<module>\u001b[1;34m\u001b[0m\n\u001b[1;32m----> 1\u001b[1;33m \u001b[1;32mdel\u001b[0m \u001b[0mlista2\u001b[0m\u001b[1;33m[\u001b[0m\u001b[1;36m4\u001b[0m\u001b[1;33m]\u001b[0m\u001b[1;33m\u001b[0m\u001b[1;33m\u001b[0m\u001b[0m\n\u001b[0m",
      "\u001b[1;31mIndexError\u001b[0m: list assignment index out of range"
     ]
    }
   ],
   "source": [
    "#\n",
    "del lista2[4]"
   ]
  },
  {
   "cell_type": "markdown",
   "id": "653387dc",
   "metadata": {},
   "source": [
    "## Listas de Listas (Listas Aninhadas)\n",
    "Listas de listas são matrizes em Python."
   ]
  },
  {
   "cell_type": "code",
   "execution_count": 63,
   "id": "496d9c49",
   "metadata": {},
   "outputs": [],
   "source": [
    "# Criando uma lista de listas\n",
    "listas = [[1,2,3], [10,15,14], [10.1,8.7,2.4]]"
   ]
  },
  {
   "cell_type": "code",
   "execution_count": 43,
   "id": "02ab961f",
   "metadata": {},
   "outputs": [
    {
     "name": "stdout",
     "output_type": "stream",
     "text": [
      "[[1, 2, 3], [10, 11, 12], [1.5, 5.5, 4.7]]\n"
     ]
    }
   ],
   "source": [
    "# Imprimindo a lista\n",
    "print(listas)"
   ]
  },
  {
   "cell_type": "code",
   "execution_count": 44,
   "id": "e974b0a8",
   "metadata": {},
   "outputs": [],
   "source": [
    "#Atribuindo um item da lista a uma variável\n",
    "a = listas[0]"
   ]
  },
  {
   "cell_type": "code",
   "execution_count": 60,
   "id": "b104b6b8",
   "metadata": {},
   "outputs": [
    {
     "data": {
      "text/plain": [
       "[1, 2, 3]"
      ]
     },
     "execution_count": 60,
     "metadata": {},
     "output_type": "execute_result"
    }
   ],
   "source": [
    "print(a)"
   ]
  },
  {
   "cell_type": "code",
   "execution_count": null,
   "id": "26d7cb16",
   "metadata": {},
   "outputs": [],
   "source": [
    "#Atribuindo um elemento da lista a\n",
    "b = a[0]"
   ]
  },
  {
   "cell_type": "code",
   "execution_count": 48,
   "id": "91e55668",
   "metadata": {},
   "outputs": [
    {
     "data": {
      "text/plain": [
       "1"
      ]
     },
     "execution_count": 48,
     "metadata": {},
     "output_type": "execute_result"
    }
   ],
   "source": [
    "print(b)"
   ]
  },
  {
   "cell_type": "code",
   "execution_count": 61,
   "id": "dbfbd608",
   "metadata": {},
   "outputs": [],
   "source": [
    "list1 = listas[1]"
   ]
  },
  {
   "cell_type": "code",
   "execution_count": 62,
   "id": "9df6dac8",
   "metadata": {},
   "outputs": [
    {
     "data": {
      "text/plain": [
       "[10, 11, 12]"
      ]
     },
     "execution_count": 62,
     "metadata": {},
     "output_type": "execute_result"
    }
   ],
   "source": [
    "list1"
   ]
  },
  {
   "cell_type": "code",
   "execution_count": 64,
   "id": "e3f45c92",
   "metadata": {},
   "outputs": [],
   "source": [
    "valor_1_0 = list1[0]"
   ]
  },
  {
   "cell_type": "code",
   "execution_count": 65,
   "id": "1d5d8e1e",
   "metadata": {},
   "outputs": [
    {
     "data": {
      "text/plain": [
       "10"
      ]
     },
     "execution_count": 65,
     "metadata": {},
     "output_type": "execute_result"
    }
   ],
   "source": [
    "valor_1_0"
   ]
  },
  {
   "cell_type": "code",
   "execution_count": 69,
   "id": "3147cc49",
   "metadata": {},
   "outputs": [],
   "source": [
    "list2 = listas[2]"
   ]
  },
  {
   "cell_type": "code",
   "execution_count": 70,
   "id": "f3ab53bb",
   "metadata": {},
   "outputs": [],
   "source": [
    "valor_2_0 = list2[0]"
   ]
  },
  {
   "cell_type": "code",
   "execution_count": 71,
   "id": "77d54b1c",
   "metadata": {},
   "outputs": [
    {
     "data": {
      "text/plain": [
       "10.1"
      ]
     },
     "execution_count": 71,
     "metadata": {},
     "output_type": "execute_result"
    }
   ],
   "source": [
    "valor_2_0"
   ]
  },
  {
   "cell_type": "markdown",
   "id": "1602b128",
   "metadata": {},
   "source": [
    "## Operações com Listas"
   ]
  },
  {
   "cell_type": "code",
   "execution_count": null,
   "id": "dac2f445",
   "metadata": {},
   "outputs": [],
   "source": [
    "listas = [[1,2,3], [10,15,14], [10.1,8.7,2.4]]"
   ]
  },
  {
   "cell_type": "code",
   "execution_count": 72,
   "id": "7990ee44",
   "metadata": {},
   "outputs": [
    {
     "data": {
      "text/plain": [
       "[[1, 2, 3], [10, 15, 14], [10.1, 8.7, 2.4]]"
      ]
     },
     "execution_count": 72,
     "metadata": {},
     "output_type": "execute_result"
    }
   ],
   "source": [
    "listas"
   ]
  },
  {
   "cell_type": "code",
   "execution_count": 74,
   "id": "df9d5fdc",
   "metadata": {},
   "outputs": [],
   "source": [
    "#Atribuindo a variávek a o primeiro valor da primeira linha\n",
    "a = listas[0][0]"
   ]
  },
  {
   "cell_type": "code",
   "execution_count": 75,
   "id": "1365db38",
   "metadata": {},
   "outputs": [
    {
     "data": {
      "text/plain": [
       "1"
      ]
     },
     "execution_count": 75,
     "metadata": {},
     "output_type": "execute_result"
    }
   ],
   "source": [
    "a"
   ]
  },
  {
   "cell_type": "code",
   "execution_count": 76,
   "id": "cc47f0f6",
   "metadata": {},
   "outputs": [],
   "source": [
    "b = listas[1][2]"
   ]
  },
  {
   "cell_type": "code",
   "execution_count": 77,
   "id": "de268129",
   "metadata": {},
   "outputs": [
    {
     "data": {
      "text/plain": [
       "14"
      ]
     },
     "execution_count": 77,
     "metadata": {},
     "output_type": "execute_result"
    }
   ],
   "source": [
    "b"
   ]
  },
  {
   "cell_type": "code",
   "execution_count": 79,
   "id": "719effc1",
   "metadata": {},
   "outputs": [],
   "source": [
    "c = listas[0][2] + 10"
   ]
  },
  {
   "cell_type": "code",
   "execution_count": 80,
   "id": "74ea253f",
   "metadata": {},
   "outputs": [
    {
     "data": {
      "text/plain": [
       "13"
      ]
     },
     "execution_count": 80,
     "metadata": {},
     "output_type": "execute_result"
    }
   ],
   "source": [
    "c"
   ]
  },
  {
   "cell_type": "code",
   "execution_count": 81,
   "id": "1dc65d40",
   "metadata": {},
   "outputs": [],
   "source": [
    "d = 10"
   ]
  },
  {
   "cell_type": "code",
   "execution_count": 82,
   "id": "96988f65",
   "metadata": {},
   "outputs": [],
   "source": [
    "e = d * listas[2][0]"
   ]
  },
  {
   "cell_type": "code",
   "execution_count": 83,
   "id": "902a6493",
   "metadata": {},
   "outputs": [
    {
     "data": {
      "text/plain": [
       "101.0"
      ]
     },
     "execution_count": 83,
     "metadata": {},
     "output_type": "execute_result"
    }
   ],
   "source": [
    "e"
   ]
  },
  {
   "cell_type": "markdown",
   "id": "e331dede",
   "metadata": {},
   "source": [
    "## Concatenando Listas"
   ]
  },
  {
   "cell_type": "code",
   "execution_count": 84,
   "id": "877fd350",
   "metadata": {},
   "outputs": [],
   "source": [
    "lista_s1 = [34, 32, 56]"
   ]
  },
  {
   "cell_type": "code",
   "execution_count": 85,
   "id": "78c520d8",
   "metadata": {},
   "outputs": [
    {
     "data": {
      "text/plain": [
       "[34, 32, 56]"
      ]
     },
     "execution_count": 85,
     "metadata": {},
     "output_type": "execute_result"
    }
   ],
   "source": [
    "lista_s1"
   ]
  },
  {
   "cell_type": "code",
   "execution_count": 86,
   "id": "1cfc2f29",
   "metadata": {},
   "outputs": [],
   "source": [
    "lista_s2 = [21, 90, 51]"
   ]
  },
  {
   "cell_type": "code",
   "execution_count": 87,
   "id": "fbb00eaf",
   "metadata": {},
   "outputs": [
    {
     "data": {
      "text/plain": [
       "[21, 90, 51]"
      ]
     },
     "execution_count": 87,
     "metadata": {},
     "output_type": "execute_result"
    }
   ],
   "source": [
    "lista_s2"
   ]
  },
  {
   "cell_type": "code",
   "execution_count": 88,
   "id": "3920090c",
   "metadata": {},
   "outputs": [],
   "source": [
    "#Concatenando listas\n",
    "lista_total = lista_s1 + lista_s2"
   ]
  },
  {
   "cell_type": "code",
   "execution_count": 89,
   "id": "7a1824df",
   "metadata": {},
   "outputs": [
    {
     "data": {
      "text/plain": [
       "[34, 32, 56, 21, 90, 51]"
      ]
     },
     "execution_count": 89,
     "metadata": {},
     "output_type": "execute_result"
    }
   ],
   "source": [
    "lista_total"
   ]
  },
  {
   "cell_type": "markdown",
   "id": "5cdaa14a",
   "metadata": {},
   "source": [
    "## Operador in"
   ]
  },
  {
   "cell_type": "code",
   "execution_count": 90,
   "id": "5fda1bdf",
   "metadata": {},
   "outputs": [],
   "source": [
    "#Criando uma lista\n",
    "lista_teste_op = [100, 2, -5, 3,4]"
   ]
  },
  {
   "cell_type": "code",
   "execution_count": 91,
   "id": "5006f6e0",
   "metadata": {},
   "outputs": [
    {
     "name": "stdout",
     "output_type": "stream",
     "text": [
      "False\n"
     ]
    }
   ],
   "source": [
    "# Verificando se o valor 10 pertence a lista\n",
    "print(10 in lista_teste_op)"
   ]
  },
  {
   "cell_type": "code",
   "execution_count": 92,
   "id": "41fd7e8e",
   "metadata": {
    "scrolled": true
   },
   "outputs": [
    {
     "name": "stdout",
     "output_type": "stream",
     "text": [
      "True\n"
     ]
    }
   ],
   "source": [
    "print(2 in lista_teste_op)"
   ]
  },
  {
   "cell_type": "markdown",
   "id": "584d4055",
   "metadata": {},
   "source": [
    "## Funções Built-in"
   ]
  },
  {
   "cell_type": "code",
   "execution_count": 116,
   "id": "004fee7b",
   "metadata": {},
   "outputs": [],
   "source": [
    "#Criando uma lista\n",
    "lista_numeros = [10, 20, 50, -3.4]"
   ]
  },
  {
   "cell_type": "code",
   "execution_count": 117,
   "id": "e6a9f3d3",
   "metadata": {},
   "outputs": [
    {
     "data": {
      "text/plain": [
       "4"
      ]
     },
     "execution_count": 117,
     "metadata": {},
     "output_type": "execute_result"
    }
   ],
   "source": [
    "len(lista_numeros)"
   ]
  },
  {
   "cell_type": "code",
   "execution_count": 118,
   "id": "75174a0a",
   "metadata": {},
   "outputs": [
    {
     "data": {
      "text/plain": [
       "50"
      ]
     },
     "execution_count": 118,
     "metadata": {},
     "output_type": "execute_result"
    }
   ],
   "source": [
    "#Função max() retorna o valor máximo da lista\n",
    "max(lista_numeros)"
   ]
  },
  {
   "cell_type": "code",
   "execution_count": 119,
   "id": "95f01ab9",
   "metadata": {},
   "outputs": [
    {
     "data": {
      "text/plain": [
       "-3.4"
      ]
     },
     "execution_count": 119,
     "metadata": {},
     "output_type": "execute_result"
    }
   ],
   "source": [
    "#Função min() retorna o valor mínimo da lista\n",
    "min(lista_numeros)"
   ]
  },
  {
   "cell_type": "code",
   "execution_count": 124,
   "id": "662175df",
   "metadata": {},
   "outputs": [],
   "source": [
    "#Criando uma lista\n",
    "lista_formacoes_dsa = [\"Análise de Dados\", \"Cientista de Dados\", \"Engenheiro de Dados\"]"
   ]
  },
  {
   "cell_type": "code",
   "execution_count": 125,
   "id": "aac34f83",
   "metadata": {},
   "outputs": [
    {
     "data": {
      "text/plain": [
       "['Análise de Dados', 'Cientista de Dados', 'Engenheiro de Dados']"
      ]
     },
     "execution_count": 125,
     "metadata": {},
     "output_type": "execute_result"
    }
   ],
   "source": [
    "lista_formacoes_dsa"
   ]
  },
  {
   "cell_type": "code",
   "execution_count": 126,
   "id": "8c15f5e1",
   "metadata": {},
   "outputs": [],
   "source": [
    "# Adicionando um item à lista\n",
    "lista_formacoes_dsa.append('Engenheiro de IA')"
   ]
  },
  {
   "cell_type": "code",
   "execution_count": 127,
   "id": "629c0207",
   "metadata": {},
   "outputs": [
    {
     "data": {
      "text/plain": [
       "['Análise de Dados',\n",
       " 'Cientista de Dados',\n",
       " 'Engenheiro de Dados',\n",
       " 'Engenheiro de IA']"
      ]
     },
     "execution_count": 127,
     "metadata": {},
     "output_type": "execute_result"
    }
   ],
   "source": [
    "lista_formacoes_dsa"
   ]
  },
  {
   "cell_type": "code",
   "execution_count": 128,
   "id": "ccb6cde6",
   "metadata": {},
   "outputs": [],
   "source": [
    "lista_formacoes_dsa.append('Engenheiro de IA')"
   ]
  },
  {
   "cell_type": "code",
   "execution_count": 129,
   "id": "51517a1a",
   "metadata": {},
   "outputs": [
    {
     "data": {
      "text/plain": [
       "['Análise de Dados',\n",
       " 'Cientista de Dados',\n",
       " 'Engenheiro de Dados',\n",
       " 'Engenheiro de IA',\n",
       " 'Engenheiro de IA']"
      ]
     },
     "execution_count": 129,
     "metadata": {},
     "output_type": "execute_result"
    }
   ],
   "source": [
    "lista_formacoes_dsa"
   ]
  },
  {
   "cell_type": "code",
   "execution_count": 130,
   "id": "585b50ea",
   "metadata": {},
   "outputs": [
    {
     "data": {
      "text/plain": [
       "2"
      ]
     },
     "execution_count": 130,
     "metadata": {},
     "output_type": "execute_result"
    }
   ],
   "source": [
    "lista_formacoes_dsa.count(\"Engenheiro de IA\")"
   ]
  },
  {
   "cell_type": "code",
   "execution_count": 144,
   "id": "702c1a62",
   "metadata": {},
   "outputs": [],
   "source": [
    "#Criando uma lista vazia\n",
    "a = []"
   ]
  },
  {
   "cell_type": "code",
   "execution_count": 145,
   "id": "cdbf95a7",
   "metadata": {},
   "outputs": [
    {
     "name": "stdout",
     "output_type": "stream",
     "text": [
      "[]\n"
     ]
    }
   ],
   "source": [
    "print(a)"
   ]
  },
  {
   "cell_type": "code",
   "execution_count": 146,
   "id": "7dd4f538",
   "metadata": {},
   "outputs": [
    {
     "data": {
      "text/plain": [
       "list"
      ]
     },
     "execution_count": 146,
     "metadata": {},
     "output_type": "execute_result"
    }
   ],
   "source": [
    "type(a)"
   ]
  },
  {
   "cell_type": "code",
   "execution_count": 147,
   "id": "2cff9a1d",
   "metadata": {},
   "outputs": [],
   "source": [
    "a.append(10)"
   ]
  },
  {
   "cell_type": "code",
   "execution_count": 148,
   "id": "6e3f65ba",
   "metadata": {},
   "outputs": [
    {
     "data": {
      "text/plain": [
       "[10]"
      ]
     },
     "execution_count": 148,
     "metadata": {},
     "output_type": "execute_result"
    }
   ],
   "source": [
    "a"
   ]
  },
  {
   "cell_type": "code",
   "execution_count": 149,
   "id": "fed3a7c8",
   "metadata": {},
   "outputs": [],
   "source": [
    "a.append(50)"
   ]
  },
  {
   "cell_type": "code",
   "execution_count": 150,
   "id": "9765f222",
   "metadata": {},
   "outputs": [
    {
     "data": {
      "text/plain": [
       "[10, 50]"
      ]
     },
     "execution_count": 150,
     "metadata": {},
     "output_type": "execute_result"
    }
   ],
   "source": [
    "a"
   ]
  },
  {
   "cell_type": "code",
   "execution_count": 158,
   "id": "80644981",
   "metadata": {},
   "outputs": [],
   "source": [
    "old_list = [1, 2, 5, 10]"
   ]
  },
  {
   "cell_type": "code",
   "execution_count": 159,
   "id": "4e7b2407",
   "metadata": {},
   "outputs": [],
   "source": [
    "new_list = []"
   ]
  },
  {
   "cell_type": "code",
   "execution_count": 160,
   "id": "2412037c",
   "metadata": {},
   "outputs": [],
   "source": [
    "#Copiando os itens de uma itens de uma lista para outra\n",
    "for item in old_list:\n",
    "        new_list.append(item)"
   ]
  },
  {
   "cell_type": "code",
   "execution_count": 161,
   "id": "e0592a54",
   "metadata": {},
   "outputs": [
    {
     "name": "stdout",
     "output_type": "stream",
     "text": [
      "[1, 2, 5, 10]\n"
     ]
    }
   ],
   "source": [
    "print(new_list)"
   ]
  },
  {
   "cell_type": "code",
   "execution_count": 162,
   "id": "ba66bdb3",
   "metadata": {},
   "outputs": [
    {
     "name": "stdout",
     "output_type": "stream",
     "text": [
      "['Recife', 'Manaus', 'Salvador', 'Fortaleza', 'Palmas']\n"
     ]
    }
   ],
   "source": [
    "cidades = [\"Recife\", \"Manaus\", \"Salvador\"]\n",
    "cidades.extend([\"Fortaleza\", \"Palmas\"])\n",
    "print(cidades)"
   ]
  },
  {
   "cell_type": "code",
   "execution_count": 166,
   "id": "0bcd12e0",
   "metadata": {},
   "outputs": [
    {
     "data": {
      "text/plain": [
       "'Salvador'"
      ]
     },
     "execution_count": 166,
     "metadata": {},
     "output_type": "execute_result"
    }
   ],
   "source": [
    "cidades.indexx(\"Salvador\")"
   ]
  },
  {
   "cell_type": "markdown",
   "id": "1c7581b1",
   "metadata": {},
   "source": [
    "Lembre-se: Em Python o índice começa por 0!"
   ]
  },
  {
   "cell_type": "code",
   "execution_count": 168,
   "id": "f2260d65",
   "metadata": {},
   "outputs": [
    {
     "data": {
      "text/plain": [
       "['Recife', 'Manaus', 'Salvador', 'Fortaleza', 'Palmas']"
      ]
     },
     "execution_count": 168,
     "metadata": {},
     "output_type": "execute_result"
    }
   ],
   "source": [
    "cidades"
   ]
  },
  {
   "cell_type": "code",
   "execution_count": 169,
   "id": "0763c53e",
   "metadata": {},
   "outputs": [],
   "source": [
    "#Inserir um item no indice 2\n",
    "cidades.insert(2, 10)"
   ]
  },
  {
   "cell_type": "code",
   "execution_count": 171,
   "id": "f512badf",
   "metadata": {},
   "outputs": [
    {
     "data": {
      "text/plain": [
       "['Recife', 'Manaus', 10, 'Salvador', 'Fortaleza', 'Palmas']"
      ]
     },
     "execution_count": 171,
     "metadata": {},
     "output_type": "execute_result"
    }
   ],
   "source": [
    "cidades"
   ]
  },
  {
   "cell_type": "code",
   "execution_count": 172,
   "id": "d0e2a13a",
   "metadata": {},
   "outputs": [],
   "source": [
    "#Remover um item da lista\n",
    "cidades.remove(10)"
   ]
  },
  {
   "cell_type": "code",
   "execution_count": 175,
   "id": "d0fdc213",
   "metadata": {},
   "outputs": [
    {
     "data": {
      "text/plain": [
       "['Recife', 'Manaus', 'Salvador', 'Fortaleza', 'Palmas']"
      ]
     },
     "execution_count": 175,
     "metadata": {},
     "output_type": "execute_result"
    }
   ],
   "source": [
    "cidades"
   ]
  },
  {
   "cell_type": "code",
   "execution_count": 176,
   "id": "db9fc2ce",
   "metadata": {},
   "outputs": [],
   "source": [
    "#Reverte a lista\n",
    "cidades.reverse()"
   ]
  },
  {
   "cell_type": "code",
   "execution_count": 177,
   "id": "605918d9",
   "metadata": {},
   "outputs": [],
   "source": [
    "x = [3, 4, 2, 1]"
   ]
  },
  {
   "cell_type": "code",
   "execution_count": 179,
   "id": "e718700f",
   "metadata": {},
   "outputs": [
    {
     "data": {
      "text/plain": [
       "[3, 4, 2, 1]"
      ]
     },
     "execution_count": 179,
     "metadata": {},
     "output_type": "execute_result"
    }
   ],
   "source": [
    "x"
   ]
  },
  {
   "cell_type": "code",
   "execution_count": 180,
   "id": "6993995a",
   "metadata": {},
   "outputs": [],
   "source": [
    "#Ordena as listas\n",
    "x.sort()"
   ]
  },
  {
   "cell_type": "code",
   "execution_count": 181,
   "id": "fad57e20",
   "metadata": {},
   "outputs": [
    {
     "data": {
      "text/plain": [
       "[1, 2, 3, 4]"
      ]
     },
     "execution_count": 181,
     "metadata": {},
     "output_type": "execute_result"
    }
   ],
   "source": [
    "x"
   ]
  },
  {
   "cell_type": "code",
   "execution_count": 182,
   "id": "f8f86c15",
   "metadata": {},
   "outputs": [],
   "source": [
    "x.sort()"
   ]
  },
  {
   "cell_type": "code",
   "execution_count": 184,
   "id": "a796f0e0",
   "metadata": {},
   "outputs": [
    {
     "data": {
      "text/plain": [
       "[1, 2, 3, 4]"
      ]
     },
     "execution_count": 184,
     "metadata": {},
     "output_type": "execute_result"
    }
   ],
   "source": [
    "x"
   ]
  },
  {
   "cell_type": "code",
   "execution_count": null,
   "id": "1c1b1037",
   "metadata": {},
   "outputs": [],
   "source": []
  }
 ],
 "metadata": {
  "kernelspec": {
   "display_name": "Python 3 (ipykernel)",
   "language": "python",
   "name": "python3"
  },
  "language_info": {
   "codemirror_mode": {
    "name": "ipython",
    "version": 3
   },
   "file_extension": ".py",
   "mimetype": "text/x-python",
   "name": "python",
   "nbconvert_exporter": "python",
   "pygments_lexer": "ipython3",
   "version": "3.9.13"
  }
 },
 "nbformat": 4,
 "nbformat_minor": 5
}
