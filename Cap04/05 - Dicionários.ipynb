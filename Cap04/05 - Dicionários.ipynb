{
 "cells": [
  {
   "cell_type": "markdown",
   "id": "97c201b3",
   "metadata": {},
   "source": [
    "# Data Science Academy\n",
    "\n",
    "## Fundamentos de Linguagem Python Para Análise de Dados e Data Science\n",
    "\n",
    "## Capítulo 4 - Estruturas de Dados (Dicionários)"
   ]
  },
  {
   "cell_type": "code",
   "execution_count": null,
   "id": "3087c87a",
   "metadata": {},
   "outputs": [],
   "source": [
    "# Versão da Linguagem Python\n",
    "from platform import python_version\n",
    "print('Versão da Linguagem Python Usada Neste Jupyter Notebook:', python_version())"
   ]
  },
  {
   "cell_type": "markdown",
   "id": "29a4954d",
   "metadata": {},
   "source": [
    "### Trabalhando com Dicionários"
   ]
  },
  {
   "cell_type": "code",
   "execution_count": 19,
   "id": "b60cd0cb",
   "metadata": {},
   "outputs": [],
   "source": [
    "#Isso é uma lista\n",
    "estudantes_lst = [\"Pedro\", 24, \"Ana\", 22, \"Ronaldo\", 26, \"Janaina\", 25]"
   ]
  },
  {
   "cell_type": "code",
   "execution_count": 20,
   "id": "cd26ddea",
   "metadata": {},
   "outputs": [
    {
     "data": {
      "text/plain": [
       "list"
      ]
     },
     "execution_count": 20,
     "metadata": {},
     "output_type": "execute_result"
    }
   ],
   "source": [
    "type(estudantes_lst)"
   ]
  },
  {
   "cell_type": "code",
   "execution_count": 46,
   "id": "2406f51e",
   "metadata": {},
   "outputs": [],
   "source": [
    "# Isso é um dicionário\n",
    "estudantes_dict = {\"Pedro\":24, \"Ana\":22, \"Ronaldo\":26, \"Janaina\":25}"
   ]
  },
  {
   "cell_type": "code",
   "execution_count": 47,
   "id": "c53c72b0",
   "metadata": {},
   "outputs": [
    {
     "data": {
      "text/plain": [
       "dict"
      ]
     },
     "execution_count": 47,
     "metadata": {},
     "output_type": "execute_result"
    }
   ],
   "source": [
    "type(estudantes_dict)"
   ]
  },
  {
   "cell_type": "code",
   "execution_count": 48,
   "id": "cd59fa34",
   "metadata": {},
   "outputs": [
    {
     "data": {
      "text/plain": [
       "24"
      ]
     },
     "execution_count": 48,
     "metadata": {},
     "output_type": "execute_result"
    }
   ],
   "source": [
    "estudantes_dict[\"Pedro\"]"
   ]
  },
  {
   "cell_type": "code",
   "execution_count": 49,
   "id": "bb1581e4",
   "metadata": {},
   "outputs": [],
   "source": [
    "estudantes_dict[\"Marcelo\"] = 23"
   ]
  },
  {
   "cell_type": "code",
   "execution_count": 50,
   "id": "8258b12d",
   "metadata": {},
   "outputs": [
    {
     "data": {
      "text/plain": [
       "23"
      ]
     },
     "execution_count": 50,
     "metadata": {},
     "output_type": "execute_result"
    }
   ],
   "source": [
    "estudantes_dict[\"Marcelo\"]"
   ]
  },
  {
   "cell_type": "code",
   "execution_count": 56,
   "id": "689b2c21",
   "metadata": {},
   "outputs": [],
   "source": [
    "estudantes_dict.clear()"
   ]
  },
  {
   "cell_type": "code",
   "execution_count": 57,
   "id": "d04c282f",
   "metadata": {},
   "outputs": [
    {
     "data": {
      "text/plain": [
       "{}"
      ]
     },
     "execution_count": 57,
     "metadata": {},
     "output_type": "execute_result"
    }
   ],
   "source": [
    "estudantes_dict"
   ]
  },
  {
   "cell_type": "code",
   "execution_count": 58,
   "id": "7f7184ed",
   "metadata": {},
   "outputs": [],
   "source": [
    "del estudantes_dict"
   ]
  },
  {
   "cell_type": "code",
   "execution_count": 59,
   "id": "f8e8e348",
   "metadata": {},
   "outputs": [],
   "source": [
    "estudantes = {\"Pedro\": 24, \"Ana\":22, \"Ronaldo\":26, \"Janaina\":25}"
   ]
  },
  {
   "cell_type": "code",
   "execution_count": 60,
   "id": "62407c84",
   "metadata": {},
   "outputs": [
    {
     "data": {
      "text/plain": [
       "{'Pedro': 24, 'Ana': 22, 'Ronaldo': 26, 'Janaina': 25}"
      ]
     },
     "execution_count": 60,
     "metadata": {},
     "output_type": "execute_result"
    }
   ],
   "source": [
    "estudantes"
   ]
  },
  {
   "cell_type": "code",
   "execution_count": 61,
   "id": "a762a251",
   "metadata": {},
   "outputs": [
    {
     "data": {
      "text/plain": [
       "4"
      ]
     },
     "execution_count": 61,
     "metadata": {},
     "output_type": "execute_result"
    }
   ],
   "source": [
    "len(estudantes)"
   ]
  },
  {
   "cell_type": "code",
   "execution_count": 62,
   "id": "afb30fdb",
   "metadata": {},
   "outputs": [
    {
     "data": {
      "text/plain": [
       "dict_keys(['Pedro', 'Ana', 'Ronaldo', 'Janaina'])"
      ]
     },
     "execution_count": 62,
     "metadata": {},
     "output_type": "execute_result"
    }
   ],
   "source": [
    "estudantes.keys()"
   ]
  },
  {
   "cell_type": "code",
   "execution_count": 63,
   "id": "4e3f66a3",
   "metadata": {},
   "outputs": [
    {
     "data": {
      "text/plain": [
       "dict_values([24, 22, 26, 25])"
      ]
     },
     "execution_count": 63,
     "metadata": {},
     "output_type": "execute_result"
    }
   ],
   "source": [
    "estudantes.values()"
   ]
  },
  {
   "cell_type": "code",
   "execution_count": 65,
   "id": "396ec8c3",
   "metadata": {},
   "outputs": [
    {
     "data": {
      "text/plain": [
       "dict_items([('Pedro', 24), ('Ana', 22), ('Ronaldo', 26), ('Janaina', 25)])"
      ]
     },
     "execution_count": 65,
     "metadata": {},
     "output_type": "execute_result"
    }
   ],
   "source": [
    "estudantes.items()"
   ]
  },
  {
   "cell_type": "code",
   "execution_count": 66,
   "id": "f564a98b",
   "metadata": {},
   "outputs": [],
   "source": [
    "estudantes2 = {\"Camila\":27, \"Adriana\":28, \"Roberta\":26}"
   ]
  },
  {
   "cell_type": "code",
   "execution_count": 67,
   "id": "4b2d3558",
   "metadata": {},
   "outputs": [
    {
     "data": {
      "text/plain": [
       "{'Camila': 27, 'Adriana': 28, 'Roberta': 26}"
      ]
     },
     "execution_count": 67,
     "metadata": {},
     "output_type": "execute_result"
    }
   ],
   "source": [
    "estudantes2"
   ]
  },
  {
   "cell_type": "code",
   "execution_count": 69,
   "id": "8cabf869",
   "metadata": {},
   "outputs": [],
   "source": [
    "estudantes.update(estudantes2)"
   ]
  },
  {
   "cell_type": "code",
   "execution_count": 70,
   "id": "abc8596f",
   "metadata": {},
   "outputs": [
    {
     "data": {
      "text/plain": [
       "{'Pedro': 24,\n",
       " 'Ana': 22,\n",
       " 'Ronaldo': 26,\n",
       " 'Janaina': 25,\n",
       " 'Camila': 27,\n",
       " 'Adriana': 28,\n",
       " 'Roberta': 26}"
      ]
     },
     "execution_count": 70,
     "metadata": {},
     "output_type": "execute_result"
    }
   ],
   "source": [
    "estudantes"
   ]
  },
  {
   "cell_type": "code",
   "execution_count": 71,
   "id": "63e46a83",
   "metadata": {},
   "outputs": [],
   "source": [
    "dic1 = {}"
   ]
  },
  {
   "cell_type": "code",
   "execution_count": 72,
   "id": "d9c0fabf",
   "metadata": {},
   "outputs": [
    {
     "data": {
      "text/plain": [
       "{}"
      ]
     },
     "execution_count": 72,
     "metadata": {},
     "output_type": "execute_result"
    }
   ],
   "source": [
    "dic1"
   ]
  },
  {
   "cell_type": "code",
   "execution_count": 76,
   "id": "739e14ba",
   "metadata": {},
   "outputs": [],
   "source": [
    "dic1[\"chaves1\"] =  10"
   ]
  },
  {
   "cell_type": "code",
   "execution_count": 77,
   "id": "9540c613",
   "metadata": {},
   "outputs": [
    {
     "data": {
      "text/plain": [
       "{'chaves1': 10}"
      ]
     },
     "execution_count": 77,
     "metadata": {},
     "output_type": "execute_result"
    }
   ],
   "source": [
    "dic1"
   ]
  },
  {
   "cell_type": "code",
   "execution_count": 79,
   "id": "c9e6e2d9",
   "metadata": {},
   "outputs": [],
   "source": [
    "dic1[9.3] = \"Python\""
   ]
  },
  {
   "cell_type": "code",
   "execution_count": 80,
   "id": "1365e4b1",
   "metadata": {},
   "outputs": [
    {
     "data": {
      "text/plain": [
       "{'chaves1': 10, 9.3: 'Python'}"
      ]
     },
     "execution_count": 80,
     "metadata": {},
     "output_type": "execute_result"
    }
   ],
   "source": [
    "dic1"
   ]
  },
  {
   "cell_type": "code",
   "execution_count": 81,
   "id": "01196a19",
   "metadata": {},
   "outputs": [
    {
     "data": {
      "text/plain": [
       "dict_items([('chaves1', 10), (9.3, 'Python')])"
      ]
     },
     "execution_count": 81,
     "metadata": {},
     "output_type": "execute_result"
    }
   ],
   "source": [
    "dic1.items()"
   ]
  },
  {
   "cell_type": "code",
   "execution_count": 86,
   "id": "1e947b35",
   "metadata": {},
   "outputs": [
    {
     "data": {
      "text/plain": [
       "dict_values([10, 'Python'])"
      ]
     },
     "execution_count": 86,
     "metadata": {},
     "output_type": "execute_result"
    }
   ],
   "source": [
    "dic1.values()"
   ]
  },
  {
   "cell_type": "code",
   "execution_count": 88,
   "id": "a0c59eeb",
   "metadata": {},
   "outputs": [
    {
     "data": {
      "text/plain": [
       "dict_keys(['chaves1', 9.3])"
      ]
     },
     "execution_count": 88,
     "metadata": {},
     "output_type": "execute_result"
    }
   ],
   "source": [
    "dic1.keys()"
   ]
  },
  {
   "cell_type": "code",
   "execution_count": 89,
   "id": "9deafaad",
   "metadata": {},
   "outputs": [
    {
     "data": {
      "text/plain": [
       "{'chaves1': 10, 9.3: 'Python'}"
      ]
     },
     "execution_count": 89,
     "metadata": {},
     "output_type": "execute_result"
    }
   ],
   "source": [
    "dic1"
   ]
  },
  {
   "cell_type": "code",
   "execution_count": 90,
   "id": "763c1f46",
   "metadata": {},
   "outputs": [],
   "source": [
    "dic1[\"Teste\"] = 5"
   ]
  },
  {
   "cell_type": "code",
   "execution_count": 91,
   "id": "a2e79172",
   "metadata": {},
   "outputs": [
    {
     "data": {
      "text/plain": [
       "{'chaves1': 10, 9.3: 'Python', 'Teste': 5}"
      ]
     },
     "execution_count": 91,
     "metadata": {},
     "output_type": "execute_result"
    }
   ],
   "source": [
    "dic1"
   ]
  },
  {
   "cell_type": "code",
   "execution_count": 92,
   "id": "7be44bc2",
   "metadata": {},
   "outputs": [],
   "source": [
    "dic1 = {}"
   ]
  },
  {
   "cell_type": "code",
   "execution_count": 93,
   "id": "776348dd",
   "metadata": {},
   "outputs": [
    {
     "data": {
      "text/plain": [
       "{}"
      ]
     },
     "execution_count": 93,
     "metadata": {},
     "output_type": "execute_result"
    }
   ],
   "source": [
    "dic1"
   ]
  },
  {
   "cell_type": "code",
   "execution_count": 94,
   "id": "b247dc02",
   "metadata": {},
   "outputs": [
    {
     "data": {
      "text/plain": [
       "{}"
      ]
     },
     "execution_count": 94,
     "metadata": {},
     "output_type": "execute_result"
    }
   ],
   "source": [
    "dic1"
   ]
  },
  {
   "cell_type": "code",
   "execution_count": 95,
   "id": "70d418b2",
   "metadata": {},
   "outputs": [],
   "source": [
    "dic1[\"Teste\"] = 10"
   ]
  },
  {
   "cell_type": "code",
   "execution_count": 96,
   "id": "ff7f4b38",
   "metadata": {},
   "outputs": [
    {
     "data": {
      "text/plain": [
       "{'Teste': 10}"
      ]
     },
     "execution_count": 96,
     "metadata": {},
     "output_type": "execute_result"
    }
   ],
   "source": [
    "dic1"
   ]
  },
  {
   "cell_type": "code",
   "execution_count": 97,
   "id": "3e47c261",
   "metadata": {},
   "outputs": [
    {
     "data": {
      "text/plain": [
       "{'Teste': 10}"
      ]
     },
     "execution_count": 97,
     "metadata": {},
     "output_type": "execute_result"
    }
   ],
   "source": [
    "dic1"
   ]
  },
  {
   "cell_type": "code",
   "execution_count": 98,
   "id": "f2b752e8",
   "metadata": {},
   "outputs": [],
   "source": [
    "dic1\n",
    "dic1[\"Teste\"]=10"
   ]
  },
  {
   "cell_type": "code",
   "execution_count": 99,
   "id": "7b434021",
   "metadata": {},
   "outputs": [],
   "source": [
    "dic1[\"Key\"]= \"Teste\""
   ]
  },
  {
   "cell_type": "code",
   "execution_count": 100,
   "id": "b153f96d",
   "metadata": {},
   "outputs": [
    {
     "data": {
      "text/plain": [
       "{'Teste': 10, 'Key': 'Teste'}"
      ]
     },
     "execution_count": 100,
     "metadata": {},
     "output_type": "execute_result"
    }
   ],
   "source": [
    "dic1"
   ]
  },
  {
   "cell_type": "code",
   "execution_count": 101,
   "id": "84c78489",
   "metadata": {},
   "outputs": [],
   "source": [
    "dic2 = {}"
   ]
  },
  {
   "cell_type": "code",
   "execution_count": 102,
   "id": "b51678c0",
   "metadata": {},
   "outputs": [],
   "source": [
    "dic2[\"Key1\"]=\"Data Science\""
   ]
  },
  {
   "cell_type": "code",
   "execution_count": 103,
   "id": "dccab9c8",
   "metadata": {},
   "outputs": [],
   "source": [
    "dic2[\"Key2\"]=\"10\""
   ]
  },
  {
   "cell_type": "code",
   "execution_count": 105,
   "id": "65971be6",
   "metadata": {},
   "outputs": [],
   "source": [
    "dic2[\"Key3\"]=\"100\""
   ]
  },
  {
   "cell_type": "code",
   "execution_count": 106,
   "id": "8af184c4",
   "metadata": {},
   "outputs": [],
   "source": [
    "a = dic2[\"Key1\"]"
   ]
  },
  {
   "cell_type": "code",
   "execution_count": 107,
   "id": "2acdb398",
   "metadata": {},
   "outputs": [],
   "source": [
    "b = dic2[\"Key2\"]"
   ]
  },
  {
   "cell_type": "code",
   "execution_count": 108,
   "id": "ce5b7bc6",
   "metadata": {},
   "outputs": [],
   "source": [
    "c = dic2[\"Key3\"]"
   ]
  },
  {
   "cell_type": "code",
   "execution_count": 112,
   "id": "49b83769",
   "metadata": {},
   "outputs": [
    {
     "data": {
      "text/plain": [
       "('Data Science', '10', '100')"
      ]
     },
     "execution_count": 112,
     "metadata": {},
     "output_type": "execute_result"
    }
   ],
   "source": [
    "a, b, c"
   ]
  },
  {
   "cell_type": "code",
   "execution_count": 4,
   "id": "c8bf0ca8",
   "metadata": {},
   "outputs": [],
   "source": [
    "#Dicionário de listas\n",
    "dic3 = {\"chave1\":1230, \"chave2\":[22,453,73.4], \"chave3\":[\"picanha\", \"fraldinha\", \"alcatra\"]}"
   ]
  },
  {
   "cell_type": "code",
   "execution_count": 5,
   "id": "9b9cd8b3",
   "metadata": {},
   "outputs": [
    {
     "data": {
      "text/plain": [
       "{'chave1': 1230,\n",
       " 'chave2': [22, 453, 73.4],\n",
       " 'chave3': ['picanha', 'fraldinha', 'alcatra']}"
      ]
     },
     "execution_count": 5,
     "metadata": {},
     "output_type": "execute_result"
    }
   ],
   "source": [
    "dic3"
   ]
  },
  {
   "cell_type": "code",
   "execution_count": 6,
   "id": "ce0a1e57",
   "metadata": {},
   "outputs": [
    {
     "data": {
      "text/plain": [
       "[22, 453, 73.4]"
      ]
     },
     "execution_count": 6,
     "metadata": {},
     "output_type": "execute_result"
    }
   ],
   "source": [
    "dic3[\"chave2\"]"
   ]
  },
  {
   "cell_type": "code",
   "execution_count": 18,
   "id": "89f62ed9",
   "metadata": {},
   "outputs": [
    {
     "data": {
      "text/plain": [
       "'PICANHA'"
      ]
     },
     "execution_count": 18,
     "metadata": {},
     "output_type": "execute_result"
    }
   ],
   "source": [
    "#Acessando um item da lista, dentro do dicionário\n",
    "dic3[\"chave3\"][0].upper()"
   ]
  },
  {
   "cell_type": "code",
   "execution_count": 21,
   "id": "711607d5",
   "metadata": {},
   "outputs": [],
   "source": [
    "# Operações com itens da lista, dentro do dicionário\n",
    "var1 = dic3[\"chave2\"][0] - 2"
   ]
  },
  {
   "cell_type": "code",
   "execution_count": 22,
   "id": "42add6ff",
   "metadata": {},
   "outputs": [
    {
     "data": {
      "text/plain": [
       "20"
      ]
     },
     "execution_count": 22,
     "metadata": {},
     "output_type": "execute_result"
    }
   ],
   "source": [
    "var1"
   ]
  },
  {
   "cell_type": "code",
   "execution_count": 23,
   "id": "b380804c",
   "metadata": {},
   "outputs": [
    {
     "data": {
      "text/plain": [
       "22"
      ]
     },
     "execution_count": 23,
     "metadata": {},
     "output_type": "execute_result"
    }
   ],
   "source": [
    "dic3[\"chave2\"][0] "
   ]
  },
  {
   "cell_type": "code",
   "execution_count": 24,
   "id": "722b91ba",
   "metadata": {},
   "outputs": [],
   "source": [
    "#Duas operações no mesmo comando, para atualizar um item dentro da lista\n",
    "dic3[\"chave2\"][0] -=2"
   ]
  },
  {
   "cell_type": "code",
   "execution_count": 26,
   "id": "42a19b64",
   "metadata": {},
   "outputs": [
    {
     "data": {
      "text/plain": [
       "{'chave1': 1230,\n",
       " 'chave2': [20, 453, 73.4],\n",
       " 'chave3': ['picanha', 'fraldinha', 'alcatra']}"
      ]
     },
     "execution_count": 26,
     "metadata": {},
     "output_type": "execute_result"
    }
   ],
   "source": [
    "dic3"
   ]
  },
  {
   "cell_type": "markdown",
   "id": "3e80d38f",
   "metadata": {},
   "source": [
    "### Criando Dicionários Aninhados"
   ]
  },
  {
   "cell_type": "code",
   "execution_count": 27,
   "id": "c33538fc",
   "metadata": {},
   "outputs": [],
   "source": [
    "#Criando dicionários aninhados\n",
    "dic_aninhado = {\"key1\": {\"key2_aninhada\":{\"key3_aninhada\":\"Dicionário aninhado em Python\"}}}"
   ]
  },
  {
   "cell_type": "code",
   "execution_count": 29,
   "id": "5722b5e8",
   "metadata": {},
   "outputs": [
    {
     "data": {
      "text/plain": [
       "{'key1': {'key2_aninhada': {'key3_aninhada': 'Dicionário aninhado em Python'}}}"
      ]
     },
     "execution_count": 29,
     "metadata": {},
     "output_type": "execute_result"
    }
   ],
   "source": [
    "dic_aninhado"
   ]
  },
  {
   "cell_type": "code",
   "execution_count": 35,
   "id": "57cd047a",
   "metadata": {},
   "outputs": [
    {
     "data": {
      "text/plain": [
       "'Dicionário aninhado em Python'"
      ]
     },
     "execution_count": 35,
     "metadata": {},
     "output_type": "execute_result"
    }
   ],
   "source": [
    "#Para buscar o valor específico por exemplo 'Dicionário aninhado em Python'. Você tem que procurar a priimeira chave, a segunda e depois a terceira\n",
    "dic_aninhado[\"key1\"][\"key2_aninhada\"][\"key3_aninhada\"]"
   ]
  },
  {
   "cell_type": "markdown",
   "id": "948649eb",
   "metadata": {},
   "source": [
    "## Fim"
   ]
  }
 ],
 "metadata": {
  "kernelspec": {
   "display_name": "Python 3 (ipykernel)",
   "language": "python",
   "name": "python3"
  },
  "language_info": {
   "codemirror_mode": {
    "name": "ipython",
    "version": 3
   },
   "file_extension": ".py",
   "mimetype": "text/x-python",
   "name": "python",
   "nbconvert_exporter": "python",
   "pygments_lexer": "ipython3",
   "version": "3.9.13"
  }
 },
 "nbformat": 4,
 "nbformat_minor": 5
}
