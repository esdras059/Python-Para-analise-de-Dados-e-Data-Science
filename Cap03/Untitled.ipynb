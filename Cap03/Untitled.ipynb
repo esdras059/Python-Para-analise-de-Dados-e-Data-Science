{
 "cells": [
  {
   "cell_type": "markdown",
   "id": "75755595",
   "metadata": {},
   "source": [
    "# Fundamentos de Linguagem Python para Análise de dados e Data Science\n",
    "\n",
    "# Capítulo 3 - Introdução à Lógica de Programação"
   ]
  },
  {
   "cell_type": "code",
   "execution_count": 1,
   "id": "8fd86763",
   "metadata": {},
   "outputs": [
    {
     "name": "stdout",
     "output_type": "stream",
     "text": [
      "Versão da Linguagem Python usada neste Jupyter Notebook:  3.9.13\n"
     ]
    }
   ],
   "source": [
    "# Versão da Linguagem Python\n",
    "from platform import python_version\n",
    "print('Versão da Linguagem Python usada neste Jupyter Notebook: ', python_version())"
   ]
  },
  {
   "cell_type": "markdown",
   "id": "987919ef",
   "metadata": {},
   "source": [
    "# Pseudocódigo 1 - Calcular a Área de Um Paralelograma\n",
    "\n",
    "Nota: Um paralelogramo é um quadrilátero com lados opostos paralelos (e portanto ângulos opostos iguais). Um quadrilátero com lados iguais é chamado de losango e um paralelogramo cujos ângulos são todos ângulos retos é chamado de retângulo."
   ]
  },
  {
   "cell_type": "markdown",
   "id": "fbac9832",
   "metadata": {},
   "source": [
    "Inicie\n",
    "    Exiba \"Bem-vindo ao Calculador de Área de Paralelogramo\"\n",
    "    Peça para o usuário inserir o comprimento da base\n",
    "    Armazene o comprimento da base em uma variável\n",
    "    Peça para o usuário inserir a altura\n",
    "    Armazene a altura em uma variável\n",
    "    Calcule a área do paralelogramo: base * altura\n",
    "    Armazene o resultado em uma variável\n",
    "    Exiba o resultado\n",
    "Fim"
   ]
  },
  {
   "cell_type": "code",
   "execution_count": 6,
   "id": "1532669e",
   "metadata": {},
   "outputs": [
    {
     "name": "stdout",
     "output_type": "stream",
     "text": [
      "Bem vindo ao Calculador de Área de Paralelogramo\n",
      "Insira valor do comprimento:5\n",
      "Insira valor da altura: 10\n",
      "O area do paralelogramo é:  50.0\n"
     ]
    }
   ],
   "source": [
    "#Convertendo para Python\n",
    "print(\"Bem vindo ao Calculador de Área de Paralelogramo\")\n",
    "base = float(input(\"Insira valor do comprimento:\"))\n",
    "altura = float(input(\"Insira valor da altura: \"))\n",
    "area = base*altura\n",
    "print(\"O area do paralelogramo é: \", paralelogramo)"
   ]
  },
  {
   "cell_type": "markdown",
   "id": "52e51e22",
   "metadata": {},
   "source": [
    "# Pseudocódigo 2 - Calculadora Simples"
   ]
  },
  {
   "cell_type": "markdown",
   "id": "0835e4ee",
   "metadata": {},
   "source": [
    "Inicio\n",
    "    Exiba \"Bem vindo ao Calculadora Simples\"\n",
    "    Peça o usuário inserir o valor a\n",
    "    armazenar o valor a\n",
    "    Peça o usuário inserir o valor b\n",
    "    armazenar o valor b\n",
    "    soma o valor a + b\n",
    "    armazena a soma do valor a e b\n",
    "    subtrai o valor: a - b\n",
    "    armazena o valor subtraido dos valores\n",
    "    multiplica o valor a * b\n",
    "    armazena o valor a e b\n",
    "    divide o valor a / b\n",
    "    armazena o valor a e b"
   ]
  },
  {
   "cell_type": "code",
   "execution_count": 44,
   "id": "03c7c79d",
   "metadata": {
    "scrolled": true
   },
   "outputs": [
    {
     "name": "stdout",
     "output_type": "stream",
     "text": [
      "Bem vindo a calculadora\n",
      "\n"
     ]
    }
   ],
   "source": [
    "print(\"Bem vindo a calculadora\\n\")"
   ]
  },
  {
   "cell_type": "code",
   "execution_count": 51,
   "id": "5b69b6b6",
   "metadata": {},
   "outputs": [
    {
     "name": "stdout",
     "output_type": "stream",
     "text": [
      "Insira o primeiro valor: 10\n"
     ]
    }
   ],
   "source": [
    "a = int(input(\"Insira o primeiro valor: \"))"
   ]
  },
  {
   "cell_type": "code",
   "execution_count": 52,
   "id": "553b957a",
   "metadata": {},
   "outputs": [
    {
     "name": "stdout",
     "output_type": "stream",
     "text": [
      "Insira o segundo valor: 0\n"
     ]
    }
   ],
   "source": [
    "b = int(input(\"Insira o segundo valor: \"))"
   ]
  },
  {
   "cell_type": "code",
   "execution_count": 53,
   "id": "a8aa8cbc",
   "metadata": {},
   "outputs": [
    {
     "name": "stdout",
     "output_type": "stream",
     "text": [
      "Escolha a operação(+ , - , * , /): /\n"
     ]
    }
   ],
   "source": [
    "op = input(\"Escolha a operação(+ , - , * , /): \")"
   ]
  },
  {
   "cell_type": "code",
   "execution_count": 54,
   "id": "7a281837",
   "metadata": {},
   "outputs": [
    {
     "ename": "ZeroDivisionError",
     "evalue": "division by zero",
     "output_type": "error",
     "traceback": [
      "\u001b[1;31m---------------------------------------------------------------------------\u001b[0m",
      "\u001b[1;31mZeroDivisionError\u001b[0m                         Traceback (most recent call last)",
      "\u001b[1;32m~\\AppData\\Local\\Temp\\ipykernel_25684\\3207046054.py\u001b[0m in \u001b[0;36m<module>\u001b[1;34m\u001b[0m\n\u001b[0;32m      9\u001b[0m     \u001b[0mprint\u001b[0m\u001b[1;33m(\u001b[0m\u001b[1;34m\"O resultado é: \"\u001b[0m\u001b[1;33m,\u001b[0m \u001b[0mrel\u001b[0m\u001b[1;33m)\u001b[0m\u001b[1;33m\u001b[0m\u001b[1;33m\u001b[0m\u001b[0m\n\u001b[0;32m     10\u001b[0m \u001b[1;32melif\u001b[0m \u001b[0mop\u001b[0m \u001b[1;33m==\u001b[0m \u001b[1;34m\"/\"\u001b[0m\u001b[1;33m:\u001b[0m\u001b[1;33m\u001b[0m\u001b[1;33m\u001b[0m\u001b[0m\n\u001b[1;32m---> 11\u001b[1;33m     \u001b[0mrel\u001b[0m \u001b[1;33m=\u001b[0m \u001b[0ma\u001b[0m\u001b[1;33m/\u001b[0m\u001b[0mb\u001b[0m\u001b[1;33m\u001b[0m\u001b[1;33m\u001b[0m\u001b[0m\n\u001b[0m\u001b[0;32m     12\u001b[0m     \u001b[0mprint\u001b[0m\u001b[1;33m(\u001b[0m\u001b[1;34m\"O resultado é: \"\u001b[0m\u001b[1;33m,\u001b[0m \u001b[0mrel\u001b[0m\u001b[1;33m)\u001b[0m\u001b[1;33m\u001b[0m\u001b[1;33m\u001b[0m\u001b[0m\n\u001b[0;32m     13\u001b[0m \u001b[1;32melse\u001b[0m\u001b[1;33m:\u001b[0m\u001b[1;33m\u001b[0m\u001b[1;33m\u001b[0m\u001b[0m\n",
      "\u001b[1;31mZeroDivisionError\u001b[0m: division by zero"
     ]
    }
   ],
   "source": [
    "if op == \"+\":\n",
    "    rel = a+b\n",
    "    print(\"O resultado é: \", rel)\n",
    "elif op == \"-\":\n",
    "    rel = a-b\n",
    "    print(\"O resultado é: \", rel)\n",
    "elif op == \"*\":\n",
    "    rel = a * b\n",
    "    print(\"O resultado é: \", rel)\n",
    "elif op == \"/\":\n",
    "    rel = a/b\n",
    "    print(\"O resultado é: \", rel)\n",
    "else:\n",
    "    print(\"Digite um valor válido por favor.\")"
   ]
  },
  {
   "cell_type": "markdown",
   "id": "ed0093ed",
   "metadata": {},
   "source": [
    "# Pseudocódigo 3 - Algoritmo Bubble Sort\n",
    "\n",
    "Bubble Sort é um algoritmo de ordenação simples que funciona comparando cada elemento com o próximo, e trocando-os de lugar se eles estiverem em ordem incorreta. \n",
    "O algoritmo repete esse processo várias vezes, até que todos os elementos estejam ordenados. A cada passagem, o maior elemento \"flutua\" para o final do array, como uma bolha, dando origem ao nome do algoritmo."
   ]
  },
  {
   "cell_type": "markdown",
   "id": "ef742c89",
   "metadata": {},
   "source": [
    "Para cada elemento i na array de n elementos\n",
    "    Para cada elemento j na array de n-1 \n",
    "        Se elemento i for maior que elemento j\n",
    "            Troque os elementos de lugar\n",
    "Exiba o array ordenado"
   ]
  },
  {
   "cell_type": "code",
   "execution_count": null,
   "id": "2bde4b8f",
   "metadata": {},
   "outputs": [],
   "source": [
    "# Considere esta lista como exemplo para ordenação com o Bubble sort\n",
    "lista = [6,3,12,7]"
   ]
  },
  {
   "cell_type": "code",
   "execution_count": null,
   "id": "7ac00732",
   "metadata": {},
   "outputs": [],
   "source": [
    "# Primeira passada do algoritmo (troca os elementos 6 e 3 de lugar)\n",
    "lista = [3,6,12,7]"
   ]
  },
  {
   "cell_type": "code",
   "execution_count": null,
   "id": "14dedf6c",
   "metadata": {},
   "outputs": [],
   "source": [
    "# Segunda passada do algoritmo (troca os elementos 6 e 12)\n",
    "lista = [3,6,12,7]"
   ]
  },
  {
   "cell_type": "code",
   "execution_count": null,
   "id": "073dc52f",
   "metadata": {},
   "outputs": [],
   "source": [
    "# Terceira passada do algoritmo (troca os elementos 6 e 12)\n",
    "lista = [3,6,7,12]"
   ]
  },
  {
   "cell_type": "markdown",
   "id": "efe57fbd",
   "metadata": {},
   "source": [
    "# Convertendo o Pseudocódigo 3 em Programa Python"
   ]
  },
  {
   "cell_type": "code",
   "execution_count": 68,
   "id": "a3efa65c",
   "metadata": {},
   "outputs": [],
   "source": [
    "lista = [6,7,23,59,14,32,33,65,43,87,9,5,2,12,8,10,13,11,89,98,3,1,61]"
   ]
  },
  {
   "cell_type": "code",
   "execution_count": 72,
   "id": "21a536df",
   "metadata": {},
   "outputs": [
    {
     "name": "stdout",
     "output_type": "stream",
     "text": [
      "[1, 2, 3, 5, 6, 7, 8, 9, 10, 11, 12, 13, 14, 23, 32, 33, 43, 59, 61, 65, 87, 89, 98]\n"
     ]
    }
   ],
   "source": [
    "def bubble_sort(arr):\n",
    "    n = len(arr)\n",
    "    \n",
    "    #Para cada elemento da array\n",
    "    for i in range(n):\n",
    "        #Para cada elemento j da array\n",
    "        for j in range(0, n-i-1):\n",
    "            \n",
    "            #Se element i for maior que elemento j\n",
    "            if arr[j] > arr[j+1]:\n",
    "                \n",
    "                #Troque os elementos i e j\n",
    "                arr[j], arr[j+1] = arr[j+1], arr[j]\n",
    "    return arr\n",
    "print(bubble_sort(lista))"
   ]
  },
  {
   "cell_type": "code",
   "execution_count": null,
   "id": "439456fe",
   "metadata": {},
   "outputs": [],
   "source": []
  },
  {
   "cell_type": "code",
   "execution_count": null,
   "id": "8d245170",
   "metadata": {},
   "outputs": [],
   "source": []
  }
 ],
 "metadata": {
  "kernelspec": {
   "display_name": "Python 3 (ipykernel)",
   "language": "python",
   "name": "python3"
  },
  "language_info": {
   "codemirror_mode": {
    "name": "ipython",
    "version": 3
   },
   "file_extension": ".py",
   "mimetype": "text/x-python",
   "name": "python",
   "nbconvert_exporter": "python",
   "pygments_lexer": "ipython3",
   "version": "3.9.13"
  }
 },
 "nbformat": 4,
 "nbformat_minor": 5
}
